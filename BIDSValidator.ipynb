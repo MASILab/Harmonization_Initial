{
 "cells": [
  {
   "cell_type": "code",
   "execution_count": 2,
   "metadata": {},
   "outputs": [],
   "source": [
    "import glob \n",
    "import os \n",
    "from pathlib import Path\n",
    "from bids_validator import BIDSValidator"
   ]
  },
  {
   "cell_type": "code",
   "execution_count": 31,
   "metadata": {},
   "outputs": [],
   "source": [
    "#Path must start from the dataset and not root for BIDS validator\n",
    "path = Path('/nfs2/harmonization/BIDS/HCP/')\n",
    "path.resolve()\n",
    "# Create an object of the class \n",
    "validate = BIDSValidator() "
   ]
  },
  {
   "cell_type": "code",
   "execution_count": 80,
   "metadata": {},
   "outputs": [],
   "source": [
    "def create_BIDS_file(data_path,pattern):\n",
    "    bids_list = []\n",
    "    for file in data_path.rglob(pattern):\n",
    "        name = file.name\n",
    "        file = file.parent.parent.name\n",
    "        bids_path = '/' + str(file) + '/'  +'dwi'+ '/'+ str(name)\n",
    "        bids_list.append(bids_path)\n",
    "    return sorted(bids_list)"
   ]
  },
  {
   "cell_type": "code",
   "execution_count": 56,
   "metadata": {},
   "outputs": [],
   "source": [
    "def validate_data(list_bids_data):\n",
    "    bids_val = []\n",
    "    for data in list_bids_data:\n",
    "        if validate.is_bids(data) == True:\n",
    "            bids_val.append(True)\n",
    "        else:\n",
    "            print(\"Validation failed, please retry for the data:\", data)\n",
    "    return sorted(bids_val)"
   ]
  },
  {
   "cell_type": "code",
   "execution_count": 19,
   "metadata": {},
   "outputs": [],
   "source": [
    "#Pass the filespaths to a list and then run a loop on them to check if the data is validated or not. Then make a table and showcase the BIDS validated data.\n",
    "bids_list = []\n",
    "for file in path.rglob('*.bval'):\n",
    "    #print(file)\n",
    "    name = file.name\n",
    "    file = file.parent.parent.name\n",
    "    bids_path = '/' + str(file) + '/' + str(name)\n",
    "    #print(bids_path)\n",
    "    bids_list.append(bids_path)"
   ]
  },
  {
   "cell_type": "code",
   "execution_count": 62,
   "metadata": {},
   "outputs": [],
   "source": [
    "import pandas as pd\n",
    "#Create table for BIDS dataset validation \n",
    "def table_validated(bids_data_list, bids_validate_list):\n",
    "    dict = {\"BIDS Data\":bids_data_list, \"BIDS Validated\":bids_validate_list}\n",
    "    df = pd.DataFrame(dict)\n",
    "    return df"
   ]
  },
  {
   "cell_type": "code",
   "execution_count": 81,
   "metadata": {},
   "outputs": [],
   "source": [
    "bval = create_BIDS_file(path, pattern = '*.bval')"
   ]
  },
  {
   "cell_type": "code",
   "execution_count": 83,
   "metadata": {},
   "outputs": [],
   "source": [
    "bval_val = validate_data(bval)"
   ]
  },
  {
   "cell_type": "code",
   "execution_count": 85,
   "metadata": {},
   "outputs": [],
   "source": [
    "bval_table = table_validated(bval, bval_val)"
   ]
  },
  {
   "cell_type": "code",
   "execution_count": 86,
   "metadata": {},
   "outputs": [
    {
     "data": {
      "text/html": [
       "<div>\n",
       "<style scoped>\n",
       "    .dataframe tbody tr th:only-of-type {\n",
       "        vertical-align: middle;\n",
       "    }\n",
       "\n",
       "    .dataframe tbody tr th {\n",
       "        vertical-align: top;\n",
       "    }\n",
       "\n",
       "    .dataframe thead th {\n",
       "        text-align: right;\n",
       "    }\n",
       "</style>\n",
       "<table border=\"1\" class=\"dataframe\">\n",
       "  <thead>\n",
       "    <tr style=\"text-align: right;\">\n",
       "      <th></th>\n",
       "      <th>BIDS Data</th>\n",
       "      <th>BIDS Validated</th>\n",
       "    </tr>\n",
       "  </thead>\n",
       "  <tbody>\n",
       "    <tr>\n",
       "      <th>0</th>\n",
       "      <td>/sub-100206/dwi/sub-100206_dwi.bval</td>\n",
       "      <td>True</td>\n",
       "    </tr>\n",
       "    <tr>\n",
       "      <th>1</th>\n",
       "      <td>/sub-100307/dwi/sub-100307_dwi.bval</td>\n",
       "      <td>True</td>\n",
       "    </tr>\n",
       "    <tr>\n",
       "      <th>2</th>\n",
       "      <td>/sub-100408/dwi/sub-100408_dwi.bval</td>\n",
       "      <td>True</td>\n",
       "    </tr>\n",
       "    <tr>\n",
       "      <th>3</th>\n",
       "      <td>/sub-100610/dwi/sub-100610_dwi.bval</td>\n",
       "      <td>True</td>\n",
       "    </tr>\n",
       "    <tr>\n",
       "      <th>4</th>\n",
       "      <td>/sub-101006/dwi/sub-101006_dwi.bval</td>\n",
       "      <td>True</td>\n",
       "    </tr>\n",
       "    <tr>\n",
       "      <th>...</th>\n",
       "      <td>...</td>\n",
       "      <td>...</td>\n",
       "    </tr>\n",
       "    <tr>\n",
       "      <th>1060</th>\n",
       "      <td>/sub-992774/dwi/sub-992774_dwi.bval</td>\n",
       "      <td>True</td>\n",
       "    </tr>\n",
       "    <tr>\n",
       "      <th>1061</th>\n",
       "      <td>/sub-993675/dwi/sub-993675_dwi.bval</td>\n",
       "      <td>True</td>\n",
       "    </tr>\n",
       "    <tr>\n",
       "      <th>1062</th>\n",
       "      <td>/sub-994273/dwi/sub-994273_dwi.bval</td>\n",
       "      <td>True</td>\n",
       "    </tr>\n",
       "    <tr>\n",
       "      <th>1063</th>\n",
       "      <td>/sub-995174/dwi/sub-995174_dwi.bval</td>\n",
       "      <td>True</td>\n",
       "    </tr>\n",
       "    <tr>\n",
       "      <th>1064</th>\n",
       "      <td>/sub-996782/dwi/sub-996782_dwi.bval</td>\n",
       "      <td>True</td>\n",
       "    </tr>\n",
       "  </tbody>\n",
       "</table>\n",
       "<p>1065 rows × 2 columns</p>\n",
       "</div>"
      ],
      "text/plain": [
       "                                BIDS Data  BIDS Validated\n",
       "0     /sub-100206/dwi/sub-100206_dwi.bval            True\n",
       "1     /sub-100307/dwi/sub-100307_dwi.bval            True\n",
       "2     /sub-100408/dwi/sub-100408_dwi.bval            True\n",
       "3     /sub-100610/dwi/sub-100610_dwi.bval            True\n",
       "4     /sub-101006/dwi/sub-101006_dwi.bval            True\n",
       "...                                   ...             ...\n",
       "1060  /sub-992774/dwi/sub-992774_dwi.bval            True\n",
       "1061  /sub-993675/dwi/sub-993675_dwi.bval            True\n",
       "1062  /sub-994273/dwi/sub-994273_dwi.bval            True\n",
       "1063  /sub-995174/dwi/sub-995174_dwi.bval            True\n",
       "1064  /sub-996782/dwi/sub-996782_dwi.bval            True\n",
       "\n",
       "[1065 rows x 2 columns]"
      ]
     },
     "execution_count": 86,
     "metadata": {},
     "output_type": "execute_result"
    }
   ],
   "source": [
    "bval_table"
   ]
  },
  {
   "cell_type": "code",
   "execution_count": 87,
   "metadata": {},
   "outputs": [],
   "source": [
    "bvec = create_BIDS_file(path, pattern ='*.bvec')"
   ]
  },
  {
   "cell_type": "code",
   "execution_count": 88,
   "metadata": {},
   "outputs": [],
   "source": [
    "bvec_val = validate_data(bvec)"
   ]
  },
  {
   "cell_type": "code",
   "execution_count": 89,
   "metadata": {},
   "outputs": [],
   "source": [
    "bvec_table = table_validated(bvec, bvec_val)"
   ]
  },
  {
   "cell_type": "code",
   "execution_count": 90,
   "metadata": {},
   "outputs": [
    {
     "data": {
      "text/html": [
       "<div>\n",
       "<style scoped>\n",
       "    .dataframe tbody tr th:only-of-type {\n",
       "        vertical-align: middle;\n",
       "    }\n",
       "\n",
       "    .dataframe tbody tr th {\n",
       "        vertical-align: top;\n",
       "    }\n",
       "\n",
       "    .dataframe thead th {\n",
       "        text-align: right;\n",
       "    }\n",
       "</style>\n",
       "<table border=\"1\" class=\"dataframe\">\n",
       "  <thead>\n",
       "    <tr style=\"text-align: right;\">\n",
       "      <th></th>\n",
       "      <th>BIDS Data</th>\n",
       "      <th>BIDS Validated</th>\n",
       "    </tr>\n",
       "  </thead>\n",
       "  <tbody>\n",
       "    <tr>\n",
       "      <th>0</th>\n",
       "      <td>/sub-100206/dwi/sub-100206_dwi.bvec</td>\n",
       "      <td>True</td>\n",
       "    </tr>\n",
       "    <tr>\n",
       "      <th>1</th>\n",
       "      <td>/sub-100307/dwi/sub-100307_dwi.bvec</td>\n",
       "      <td>True</td>\n",
       "    </tr>\n",
       "    <tr>\n",
       "      <th>2</th>\n",
       "      <td>/sub-100408/dwi/sub-100408_dwi.bvec</td>\n",
       "      <td>True</td>\n",
       "    </tr>\n",
       "    <tr>\n",
       "      <th>3</th>\n",
       "      <td>/sub-100610/dwi/sub-100610_dwi.bvec</td>\n",
       "      <td>True</td>\n",
       "    </tr>\n",
       "    <tr>\n",
       "      <th>4</th>\n",
       "      <td>/sub-101006/dwi/sub-101006_dwi.bvec</td>\n",
       "      <td>True</td>\n",
       "    </tr>\n",
       "    <tr>\n",
       "      <th>...</th>\n",
       "      <td>...</td>\n",
       "      <td>...</td>\n",
       "    </tr>\n",
       "    <tr>\n",
       "      <th>1060</th>\n",
       "      <td>/sub-992774/dwi/sub-992774_dwi.bvec</td>\n",
       "      <td>True</td>\n",
       "    </tr>\n",
       "    <tr>\n",
       "      <th>1061</th>\n",
       "      <td>/sub-993675/dwi/sub-993675_dwi.bvec</td>\n",
       "      <td>True</td>\n",
       "    </tr>\n",
       "    <tr>\n",
       "      <th>1062</th>\n",
       "      <td>/sub-994273/dwi/sub-994273_dwi.bvec</td>\n",
       "      <td>True</td>\n",
       "    </tr>\n",
       "    <tr>\n",
       "      <th>1063</th>\n",
       "      <td>/sub-995174/dwi/sub-995174_dwi.bvec</td>\n",
       "      <td>True</td>\n",
       "    </tr>\n",
       "    <tr>\n",
       "      <th>1064</th>\n",
       "      <td>/sub-996782/dwi/sub-996782_dwi.bvec</td>\n",
       "      <td>True</td>\n",
       "    </tr>\n",
       "  </tbody>\n",
       "</table>\n",
       "<p>1065 rows × 2 columns</p>\n",
       "</div>"
      ],
      "text/plain": [
       "                                BIDS Data  BIDS Validated\n",
       "0     /sub-100206/dwi/sub-100206_dwi.bvec            True\n",
       "1     /sub-100307/dwi/sub-100307_dwi.bvec            True\n",
       "2     /sub-100408/dwi/sub-100408_dwi.bvec            True\n",
       "3     /sub-100610/dwi/sub-100610_dwi.bvec            True\n",
       "4     /sub-101006/dwi/sub-101006_dwi.bvec            True\n",
       "...                                   ...             ...\n",
       "1060  /sub-992774/dwi/sub-992774_dwi.bvec            True\n",
       "1061  /sub-993675/dwi/sub-993675_dwi.bvec            True\n",
       "1062  /sub-994273/dwi/sub-994273_dwi.bvec            True\n",
       "1063  /sub-995174/dwi/sub-995174_dwi.bvec            True\n",
       "1064  /sub-996782/dwi/sub-996782_dwi.bvec            True\n",
       "\n",
       "[1065 rows x 2 columns]"
      ]
     },
     "execution_count": 90,
     "metadata": {},
     "output_type": "execute_result"
    }
   ],
   "source": [
    "bvec_table"
   ]
  },
  {
   "cell_type": "code",
   "execution_count": 91,
   "metadata": {},
   "outputs": [],
   "source": [
    "nifti = create_BIDS_file(path, pattern = '*.nii.gz')"
   ]
  },
  {
   "cell_type": "code",
   "execution_count": 92,
   "metadata": {},
   "outputs": [],
   "source": [
    "nifti_val = validate_data(nifti)"
   ]
  },
  {
   "cell_type": "code",
   "execution_count": 95,
   "metadata": {},
   "outputs": [],
   "source": [
    "nifti_table = table_validated(nifti, nifti_val)"
   ]
  },
  {
   "cell_type": "code",
   "execution_count": 99,
   "metadata": {},
   "outputs": [
    {
     "data": {
      "text/html": [
       "<div>\n",
       "<style scoped>\n",
       "    .dataframe tbody tr th:only-of-type {\n",
       "        vertical-align: middle;\n",
       "    }\n",
       "\n",
       "    .dataframe tbody tr th {\n",
       "        vertical-align: top;\n",
       "    }\n",
       "\n",
       "    .dataframe thead th {\n",
       "        text-align: right;\n",
       "    }\n",
       "</style>\n",
       "<table border=\"1\" class=\"dataframe\">\n",
       "  <thead>\n",
       "    <tr style=\"text-align: right;\">\n",
       "      <th></th>\n",
       "      <th>BIDS Data</th>\n",
       "      <th>BIDS Validated</th>\n",
       "    </tr>\n",
       "  </thead>\n",
       "  <tbody>\n",
       "    <tr>\n",
       "      <th>0</th>\n",
       "      <td>/sub-100206/dwi/sub-100206_dwi.nii.gz</td>\n",
       "      <td>True</td>\n",
       "    </tr>\n",
       "    <tr>\n",
       "      <th>1</th>\n",
       "      <td>/sub-100307/dwi/sub-100307_dwi.nii.gz</td>\n",
       "      <td>True</td>\n",
       "    </tr>\n",
       "    <tr>\n",
       "      <th>2</th>\n",
       "      <td>/sub-100408/dwi/sub-100408_dwi.nii.gz</td>\n",
       "      <td>True</td>\n",
       "    </tr>\n",
       "    <tr>\n",
       "      <th>3</th>\n",
       "      <td>/sub-100610/dwi/sub-100610_dwi.nii.gz</td>\n",
       "      <td>True</td>\n",
       "    </tr>\n",
       "    <tr>\n",
       "      <th>4</th>\n",
       "      <td>/sub-101006/dwi/sub-101006_dwi.nii.gz</td>\n",
       "      <td>True</td>\n",
       "    </tr>\n",
       "    <tr>\n",
       "      <th>...</th>\n",
       "      <td>...</td>\n",
       "      <td>...</td>\n",
       "    </tr>\n",
       "    <tr>\n",
       "      <th>1059</th>\n",
       "      <td>/sub-992774/dwi/sub-992774_dwi.nii.gz</td>\n",
       "      <td>True</td>\n",
       "    </tr>\n",
       "    <tr>\n",
       "      <th>1060</th>\n",
       "      <td>/sub-993675/dwi/sub-993675_dwi.nii.gz</td>\n",
       "      <td>True</td>\n",
       "    </tr>\n",
       "    <tr>\n",
       "      <th>1061</th>\n",
       "      <td>/sub-994273/dwi/sub-994273_dwi.nii.gz</td>\n",
       "      <td>True</td>\n",
       "    </tr>\n",
       "    <tr>\n",
       "      <th>1062</th>\n",
       "      <td>/sub-995174/dwi/sub-995174_dwi.nii.gz</td>\n",
       "      <td>True</td>\n",
       "    </tr>\n",
       "    <tr>\n",
       "      <th>1063</th>\n",
       "      <td>/sub-996782/dwi/sub-996782_dwi.nii.gz</td>\n",
       "      <td>True</td>\n",
       "    </tr>\n",
       "  </tbody>\n",
       "</table>\n",
       "<p>1064 rows × 2 columns</p>\n",
       "</div>"
      ],
      "text/plain": [
       "                                  BIDS Data  BIDS Validated\n",
       "0     /sub-100206/dwi/sub-100206_dwi.nii.gz            True\n",
       "1     /sub-100307/dwi/sub-100307_dwi.nii.gz            True\n",
       "2     /sub-100408/dwi/sub-100408_dwi.nii.gz            True\n",
       "3     /sub-100610/dwi/sub-100610_dwi.nii.gz            True\n",
       "4     /sub-101006/dwi/sub-101006_dwi.nii.gz            True\n",
       "...                                     ...             ...\n",
       "1059  /sub-992774/dwi/sub-992774_dwi.nii.gz            True\n",
       "1060  /sub-993675/dwi/sub-993675_dwi.nii.gz            True\n",
       "1061  /sub-994273/dwi/sub-994273_dwi.nii.gz            True\n",
       "1062  /sub-995174/dwi/sub-995174_dwi.nii.gz            True\n",
       "1063  /sub-996782/dwi/sub-996782_dwi.nii.gz            True\n",
       "\n",
       "[1064 rows x 2 columns]"
      ]
     },
     "execution_count": 99,
     "metadata": {},
     "output_type": "execute_result"
    }
   ],
   "source": [
    "nifti_table "
   ]
  },
  {
   "cell_type": "code",
   "execution_count": 100,
   "metadata": {},
   "outputs": [],
   "source": [
    "#Save the BIDS validated data in CSV format\n",
    "tab_pa = Path('/home-local/github/Harmonization_Initial/BIDs_validated_data/bval_val.csv')\n",
    "bval_table.to_csv(tab_pa)"
   ]
  },
  {
   "cell_type": "code",
   "execution_count": 101,
   "metadata": {},
   "outputs": [],
   "source": [
    "def save_csv(path_to_save, list_table):\n",
    "    list_table.to_csv(path_to_save)\n"
   ]
  },
  {
   "cell_type": "code",
   "execution_count": 102,
   "metadata": {},
   "outputs": [],
   "source": [
    "tab_pa = Path('/home-local/github/Harmonization_Initial/BIDs_validated_data/bvec_val.csv')\n",
    "save_csv(tab_pa, bvec_table)"
   ]
  },
  {
   "cell_type": "code",
   "execution_count": 103,
   "metadata": {},
   "outputs": [],
   "source": [
    "tab_pa = tab_pa = Path('/home-local/github/Harmonization_Initial/BIDs_validated_data/nifti_val.csv')\n",
    "save_csv(tab_pa, nifti_table)"
   ]
  },
  {
   "cell_type": "code",
   "execution_count": null,
   "metadata": {},
   "outputs": [],
   "source": [
    "#BIDS validate the anat folder\n"
   ]
  }
 ],
 "metadata": {
  "kernelspec": {
   "display_name": "Python 3.8.3 ('base': conda)",
   "language": "python",
   "name": "python3"
  },
  "language_info": {
   "codemirror_mode": {
    "name": "ipython",
    "version": 3
   },
   "file_extension": ".py",
   "mimetype": "text/x-python",
   "name": "python",
   "nbconvert_exporter": "python",
   "pygments_lexer": "ipython3",
   "version": "3.8.3"
  },
  "orig_nbformat": 4,
  "vscode": {
   "interpreter": {
    "hash": "125c707874e141a70c0480f741fe538402e348dce6a8060bd7c1685fb49a4b44"
   }
  }
 },
 "nbformat": 4,
 "nbformat_minor": 2
}
