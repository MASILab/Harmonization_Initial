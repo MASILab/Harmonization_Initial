{
 "cells": [
  {
   "cell_type": "code",
   "execution_count": 19,
   "metadata": {},
   "outputs": [],
   "source": [
    "import os \n",
    "import glob\n",
    "from tqdm import tqdm\n",
    "from pathlib import Path\n",
    "import re"
   ]
  },
  {
   "cell_type": "code",
   "execution_count": 2,
   "metadata": {},
   "outputs": [],
   "source": [
    "#Loop through HCP_YA dataset. Go through folder: subject/T1w/Diffusion/. Search for bvals, bvecs and data.nii.gz. Symlink that to /nfs2/harmonization/BIDS/HCP/subject-xxx"
   ]
  },
  {
   "cell_type": "code",
   "execution_count": 7,
   "metadata": {},
   "outputs": [
    {
     "data": {
      "text/plain": [
       "PosixPath('/nfs2/harmonization/raw/HCP')"
      ]
     },
     "execution_count": 7,
     "metadata": {},
     "output_type": "execute_result"
    }
   ],
   "source": [
    "path = Path('/nfs2/harmonization/raw/HCP/')\n",
    "path.resolve()"
   ]
  },
  {
   "cell_type": "code",
   "execution_count": 8,
   "metadata": {},
   "outputs": [],
   "source": [
    "der = []\n",
    "for file in path.glob('**/T1w/T1w'):\n",
    "    joined = file/'T1w_acpc_dc_restore_1.25.nii.gz'\n",
    "    if joined.exists():\n",
    "        der.append(joined)\n"
   ]
  },
  {
   "cell_type": "code",
   "execution_count": null,
   "metadata": {},
   "outputs": [],
   "source": [
    "sorted(der)"
   ]
  },
  {
   "cell_type": "code",
   "execution_count": 13,
   "metadata": {},
   "outputs": [],
   "source": [
    "t1anat = []\n",
    "for file in path.glob('**/T1w'):\n",
    "    joined = file/'T1w_acpc_dc_restore.nii.gz'\n",
    "    if joined.exists():\n",
    "        t1anat.append(joined)"
   ]
  },
  {
   "cell_type": "code",
   "execution_count": 14,
   "metadata": {},
   "outputs": [
    {
     "data": {
      "text/plain": [
       "1112"
      ]
     },
     "execution_count": 14,
     "metadata": {},
     "output_type": "execute_result"
    }
   ],
   "source": [
    "len(t1anat)"
   ]
  },
  {
   "cell_type": "code",
   "execution_count": null,
   "metadata": {},
   "outputs": [],
   "source": [
    "sorted(t1anat)"
   ]
  },
  {
   "cell_type": "code",
   "execution_count": 38,
   "metadata": {},
   "outputs": [],
   "source": [
    "#Testing the BIDS validator name before creating symlinks\n",
    "BIDS_path = Path('/nfs2/harmonization/BIDS/HCP/')\n",
    "raw_path = Path('/nfs2/harmonization/raw/HCP/data/')\n",
    "\n",
    "dirs = [x for x in raw_path.iterdir() if x.is_dir()]"
   ]
  },
  {
   "cell_type": "code",
   "execution_count": null,
   "metadata": {},
   "outputs": [],
   "source": [
    "diff = \"dwi\"\n",
    "for file in raw_path.rglob('*bvals*'):\n",
    "   if file.is_file():\n",
    "      sub = 'sub-' + \"\".join(file.parent.parent.parent.name)\n",
    "      sub_name = 'sub-' + \"\".join(file.parent.parent.parent.name) + \"_dwi.\"\n",
    "      #print(file.name)\n",
    "      #print(sub_name)\n",
    "      print(\"ln -s \" + str(file) + \" \" + str(BIDS_path) + '/' + sub + '/' + diff + '/' + sub_name  + \"bval\")"
   ]
  },
  {
   "cell_type": "code",
   "execution_count": null,
   "metadata": {},
   "outputs": [],
   "source": [
    "for file in raw_path.rglob('*bvecs'):\n",
    "    if file.is_file():\n",
    "        #print(file)\n",
    "        sub = 'sub-' + \"\".join(file.parent.parent.parent.name)\n",
    "        sub_name = 'sub-' + \"\".join(file.parent.parent.parent.name) + \"_dwi.\"\n",
    "      #print(file.name)\n",
    "      #print(sub_name)\n",
    "        print(\"ln -s \" + str(file) + \" \" + str(BIDS_path) + '/' + sub + '/' + diff + '/' + sub_name  + \"bvec\")"
   ]
  },
  {
   "cell_type": "code",
   "execution_count": null,
   "metadata": {},
   "outputs": [],
   "source": [
    "for file in raw_path.rglob('*ata.nii.gz'):\n",
    "    if file.is_file():\n",
    "        #print(file)\n",
    "        sub = 'sub-' + \"\".join(file.parent.parent.parent.name)\n",
    "        sub_name = 'sub-' + \"\".join(file.parent.parent.parent.name) + \"_dwi.\"\n",
    "        file_name = sub_name + str(file).split('.', 1)[1]\n",
    "        #print(file_name)\n",
    "        print(\"ln -s \" + str(file) + \" \" + str(BIDS_path) + '/' + sub + '/' + diff + '/' + file_name)"
   ]
  },
  {
   "cell_type": "code",
   "execution_count": null,
   "metadata": {},
   "outputs": [],
   "source": [
    "#Creating the symlinks\n",
    "#bvals\n",
    "diff = \"dwi\"\n",
    "for file in raw_path.rglob('*bvals*'):\n",
    "   if file.is_file():\n",
    "      sub = 'sub-' + \"\".join(file.parent.parent.parent.name)\n",
    "      sub_name = 'sub-' + \"\".join(file.parent.parent.parent.name) + \"_dwi.\"\n",
    "      destination = str(BIDS_path) + '/' + sub + '/' + diff + '/' + sub_name  + \"bval\"\n",
    "      #print(file.name)\n",
    "      #print(\"ln -s \" + str(file) + \" \" + str(BIDS_path) + '/' + sub + '/' + diff + '/' + sub_name  + \"bval\")\n",
    "      os.symlink(str(file), str(destination))"
   ]
  },
  {
   "cell_type": "code",
   "execution_count": 102,
   "metadata": {},
   "outputs": [],
   "source": [
    "for file in raw_path.rglob('*bvecs'):\n",
    "    if file.is_file():\n",
    "        #print(file)\n",
    "        sub = 'sub-' + \"\".join(file.parent.parent.parent.name)\n",
    "        sub_name = 'sub-' + \"\".join(file.parent.parent.parent.name) + \"_dwi.\"\n",
    "        file_name = str(BIDS_path) + '/' + sub + '/' + diff + '/' + sub_name + \"bvec\"\n",
    "        check = Path(file_name)\n",
    "        if check.is_symlink():\n",
    "            pass\n",
    "        else:\n",
    "            os.symlink(str(file), str(file_name))"
   ]
  },
  {
   "cell_type": "code",
   "execution_count": 125,
   "metadata": {},
   "outputs": [
    {
     "name": "stdout",
     "output_type": "stream",
     "text": [
      "ln -s /nfs2/harmonization/raw/HCP/data/685058/T1w/Diffusion/data.nii.gz /nfs2/harmonization/BIDS/HCP/sub-685058/dwi/sub-685058_dwi.nii.gz\n",
      "ln -s /nfs2/harmonization/raw/HCP/data/656253/T1w/Diffusion/data.nii.gz /nfs2/harmonization/BIDS/HCP/sub-656253/dwi/sub-656253_dwi.nii.gz\n",
      "ln -s /nfs2/harmonization/raw/HCP/data/113619/T1w/Diffusion/data.nii.gz /nfs2/harmonization/BIDS/HCP/sub-113619/dwi/sub-113619_dwi.nii.gz\n",
      "ln -s /nfs2/harmonization/raw/HCP/data/169747/T1w/Diffusion/data.nii.gz /nfs2/harmonization/BIDS/HCP/sub-169747/dwi/sub-169747_dwi.nii.gz\n",
      "ln -s /nfs2/harmonization/raw/HCP/data/268850/T1w/Diffusion/data.nii.gz /nfs2/harmonization/BIDS/HCP/sub-268850/dwi/sub-268850_dwi.nii.gz\n",
      "ln -s /nfs2/harmonization/raw/HCP/data/415837/T1w/Diffusion/data.nii.gz /nfs2/harmonization/BIDS/HCP/sub-415837/dwi/sub-415837_dwi.nii.gz\n",
      "ln -s /nfs2/harmonization/raw/HCP/data/378857/T1w/Diffusion/data.nii.gz /nfs2/harmonization/BIDS/HCP/sub-378857/dwi/sub-378857_dwi.nii.gz\n",
      "ln -s /nfs2/harmonization/raw/HCP/data/547046/T1w/Diffusion/data.nii.gz /nfs2/harmonization/BIDS/HCP/sub-547046/dwi/sub-547046_dwi.nii.gz\n",
      "ln -s /nfs2/harmonization/raw/HCP/data/861456/T1w/Diffusion/data.nii.gz /nfs2/harmonization/BIDS/HCP/sub-861456/dwi/sub-861456_dwi.nii.gz\n",
      "ln -s /nfs2/harmonization/raw/HCP/data/828862/T1w/Diffusion/data.nii.gz /nfs2/harmonization/BIDS/HCP/sub-828862/dwi/sub-828862_dwi.nii.gz\n",
      "ln -s /nfs2/harmonization/raw/HCP/data/952863/T1w/Diffusion/data.nii.gz /nfs2/harmonization/BIDS/HCP/sub-952863/dwi/sub-952863_dwi.nii.gz\n",
      "ln -s /nfs2/harmonization/raw/HCP/data/173435/T1w/Diffusion/data.nii.gz /nfs2/harmonization/BIDS/HCP/sub-173435/dwi/sub-173435_dwi.nii.gz\n",
      "ln -s /nfs2/harmonization/raw/HCP/data/194847/T1w/Diffusion/data.nii.gz /nfs2/harmonization/BIDS/HCP/sub-194847/dwi/sub-194847_dwi.nii.gz\n",
      "ln -s /nfs2/harmonization/raw/HCP/data/570243/T1w/Diffusion/data.nii.gz /nfs2/harmonization/BIDS/HCP/sub-570243/dwi/sub-570243_dwi.nii.gz\n",
      "ln -s /nfs2/harmonization/raw/HCP/data/121921/T1w/Diffusion/data.nii.gz /nfs2/harmonization/BIDS/HCP/sub-121921/dwi/sub-121921_dwi.nii.gz\n",
      "ln -s /nfs2/harmonization/raw/HCP/data/211922/T1w/Diffusion/data.nii.gz /nfs2/harmonization/BIDS/HCP/sub-211922/dwi/sub-211922_dwi.nii.gz\n",
      "ln -s /nfs2/harmonization/raw/HCP/data/193239/T1w/Diffusion/data.nii.gz /nfs2/harmonization/BIDS/HCP/sub-193239/dwi/sub-193239_dwi.nii.gz\n",
      "ln -s /nfs2/harmonization/raw/HCP/data/102513/T1w/Diffusion/data.nii.gz /nfs2/harmonization/BIDS/HCP/sub-102513/dwi/sub-102513_dwi.nii.gz\n",
      "ln -s /nfs2/harmonization/raw/HCP/data/316633/T1w/Diffusion/data.nii.gz /nfs2/harmonization/BIDS/HCP/sub-316633/dwi/sub-316633_dwi.nii.gz\n",
      "ln -s /nfs2/harmonization/raw/HCP/data/152427/T1w/Diffusion/data.nii.gz /nfs2/harmonization/BIDS/HCP/sub-152427/dwi/sub-152427_dwi.nii.gz\n",
      "ln -s /nfs2/harmonization/raw/HCP/data/270332/T1w/Diffusion/data.nii.gz /nfs2/harmonization/BIDS/HCP/sub-270332/dwi/sub-270332_dwi.nii.gz\n",
      "ln -s /nfs2/harmonization/raw/HCP/data/322224/T1w/Diffusion/data.nii.gz /nfs2/harmonization/BIDS/HCP/sub-322224/dwi/sub-322224_dwi.nii.gz\n",
      "ln -s /nfs2/harmonization/raw/HCP/data/120010/T1w/Diffusion/data.nii.gz /nfs2/harmonization/BIDS/HCP/sub-120010/dwi/sub-120010_dwi.nii.gz\n",
      "ln -s /nfs2/harmonization/raw/HCP/data/130922/T1w/Diffusion/data.nii.gz /nfs2/harmonization/BIDS/HCP/sub-130922/dwi/sub-130922_dwi.nii.gz\n",
      "ln -s /nfs2/harmonization/raw/HCP/data/142828/T1w/Diffusion/data.nii.gz /nfs2/harmonization/BIDS/HCP/sub-142828/dwi/sub-142828_dwi.nii.gz\n",
      "ln -s /nfs2/harmonization/raw/HCP/data/522434/T1w/Diffusion/data.nii.gz /nfs2/harmonization/BIDS/HCP/sub-522434/dwi/sub-522434_dwi.nii.gz\n",
      "ln -s /nfs2/harmonization/raw/HCP/data/287248/T1w/Diffusion/data.nii.gz /nfs2/harmonization/BIDS/HCP/sub-287248/dwi/sub-287248_dwi.nii.gz\n",
      "ln -s /nfs2/harmonization/raw/HCP/data/214221/T1w/Diffusion/data.nii.gz /nfs2/harmonization/BIDS/HCP/sub-214221/dwi/sub-214221_dwi.nii.gz\n",
      "ln -s /nfs2/harmonization/raw/HCP/data/835657/T1w/Diffusion/data.nii.gz /nfs2/harmonization/BIDS/HCP/sub-835657/dwi/sub-835657_dwi.nii.gz\n",
      "ln -s /nfs2/harmonization/raw/HCP/data/154936/T1w/Diffusion/data.nii.gz /nfs2/harmonization/BIDS/HCP/sub-154936/dwi/sub-154936_dwi.nii.gz\n",
      "ln -s /nfs2/harmonization/raw/HCP/data/169444/T1w/Diffusion/data.nii.gz /nfs2/harmonization/BIDS/HCP/sub-169444/dwi/sub-169444_dwi.nii.gz\n",
      "ln -s /nfs2/harmonization/raw/HCP/data/573451/T1w/Diffusion/data.nii.gz /nfs2/harmonization/BIDS/HCP/sub-573451/dwi/sub-573451_dwi.nii.gz\n"
     ]
    },
    {
     "ename": "KeyboardInterrupt",
     "evalue": "",
     "output_type": "error",
     "traceback": [
      "\u001b[0;31m---------------------------------------------------------------------------\u001b[0m",
      "\u001b[0;31mKeyboardInterrupt\u001b[0m                         Traceback (most recent call last)",
      "\u001b[0;32m<ipython-input-125-1cdb9d37da82>\u001b[0m in \u001b[0;36m<module>\u001b[0;34m\u001b[0m\n\u001b[1;32m      1\u001b[0m \u001b[0;31m#Nifti file symlink\u001b[0m\u001b[0;34m\u001b[0m\u001b[0;34m\u001b[0m\u001b[0;34m\u001b[0m\u001b[0m\n\u001b[0;32m----> 2\u001b[0;31m \u001b[0;32mfor\u001b[0m \u001b[0mfile\u001b[0m \u001b[0;32min\u001b[0m \u001b[0mraw_path\u001b[0m\u001b[0;34m.\u001b[0m\u001b[0mrglob\u001b[0m\u001b[0;34m(\u001b[0m\u001b[0;34m'*data.nii.gz'\u001b[0m\u001b[0;34m)\u001b[0m\u001b[0;34m:\u001b[0m\u001b[0;34m\u001b[0m\u001b[0;34m\u001b[0m\u001b[0m\n\u001b[0m\u001b[1;32m      3\u001b[0m     \u001b[0;32mif\u001b[0m \u001b[0mfile\u001b[0m\u001b[0;34m.\u001b[0m\u001b[0mis_file\u001b[0m\u001b[0;34m(\u001b[0m\u001b[0;34m)\u001b[0m\u001b[0;34m:\u001b[0m\u001b[0;34m\u001b[0m\u001b[0;34m\u001b[0m\u001b[0m\n\u001b[1;32m      4\u001b[0m         \u001b[0;31m#print(file)\u001b[0m\u001b[0;34m\u001b[0m\u001b[0;34m\u001b[0m\u001b[0;34m\u001b[0m\u001b[0m\n\u001b[1;32m      5\u001b[0m         \u001b[0msub\u001b[0m \u001b[0;34m=\u001b[0m \u001b[0;34m'sub-'\u001b[0m \u001b[0;34m+\u001b[0m \u001b[0;34m\"\"\u001b[0m\u001b[0;34m.\u001b[0m\u001b[0mjoin\u001b[0m\u001b[0;34m(\u001b[0m\u001b[0mfile\u001b[0m\u001b[0;34m.\u001b[0m\u001b[0mparent\u001b[0m\u001b[0;34m.\u001b[0m\u001b[0mparent\u001b[0m\u001b[0;34m.\u001b[0m\u001b[0mparent\u001b[0m\u001b[0;34m.\u001b[0m\u001b[0mname\u001b[0m\u001b[0;34m)\u001b[0m\u001b[0;34m\u001b[0m\u001b[0;34m\u001b[0m\u001b[0m\n",
      "\u001b[0;32m/home-local/anaconda/lib/python3.8/pathlib.py\u001b[0m in \u001b[0;36mrglob\u001b[0;34m(self, pattern)\u001b[0m\n\u001b[1;32m   1146\u001b[0m             \u001b[0;32mraise\u001b[0m \u001b[0mNotImplementedError\u001b[0m\u001b[0;34m(\u001b[0m\u001b[0;34m\"Non-relative patterns are unsupported\"\u001b[0m\u001b[0;34m)\u001b[0m\u001b[0;34m\u001b[0m\u001b[0;34m\u001b[0m\u001b[0m\n\u001b[1;32m   1147\u001b[0m         \u001b[0mselector\u001b[0m \u001b[0;34m=\u001b[0m \u001b[0m_make_selector\u001b[0m\u001b[0;34m(\u001b[0m\u001b[0;34m(\u001b[0m\u001b[0;34m\"**\"\u001b[0m\u001b[0;34m,\u001b[0m\u001b[0;34m)\u001b[0m \u001b[0;34m+\u001b[0m \u001b[0mtuple\u001b[0m\u001b[0;34m(\u001b[0m\u001b[0mpattern_parts\u001b[0m\u001b[0;34m)\u001b[0m\u001b[0;34m,\u001b[0m \u001b[0mself\u001b[0m\u001b[0;34m.\u001b[0m\u001b[0m_flavour\u001b[0m\u001b[0;34m)\u001b[0m\u001b[0;34m\u001b[0m\u001b[0;34m\u001b[0m\u001b[0m\n\u001b[0;32m-> 1148\u001b[0;31m         \u001b[0;32mfor\u001b[0m \u001b[0mp\u001b[0m \u001b[0;32min\u001b[0m \u001b[0mselector\u001b[0m\u001b[0;34m.\u001b[0m\u001b[0mselect_from\u001b[0m\u001b[0;34m(\u001b[0m\u001b[0mself\u001b[0m\u001b[0;34m)\u001b[0m\u001b[0;34m:\u001b[0m\u001b[0;34m\u001b[0m\u001b[0;34m\u001b[0m\u001b[0m\n\u001b[0m\u001b[1;32m   1149\u001b[0m             \u001b[0;32myield\u001b[0m \u001b[0mp\u001b[0m\u001b[0;34m\u001b[0m\u001b[0;34m\u001b[0m\u001b[0m\n\u001b[1;32m   1150\u001b[0m \u001b[0;34m\u001b[0m\u001b[0m\n",
      "\u001b[0;32m/home-local/anaconda/lib/python3.8/pathlib.py\u001b[0m in \u001b[0;36m_select_from\u001b[0;34m(self, parent_path, is_dir, exists, scandir)\u001b[0m\n\u001b[1;32m    580\u001b[0m             \u001b[0;32mtry\u001b[0m\u001b[0;34m:\u001b[0m\u001b[0;34m\u001b[0m\u001b[0;34m\u001b[0m\u001b[0m\n\u001b[1;32m    581\u001b[0m                 \u001b[0msuccessor_select\u001b[0m \u001b[0;34m=\u001b[0m \u001b[0mself\u001b[0m\u001b[0;34m.\u001b[0m\u001b[0msuccessor\u001b[0m\u001b[0;34m.\u001b[0m\u001b[0m_select_from\u001b[0m\u001b[0;34m\u001b[0m\u001b[0;34m\u001b[0m\u001b[0m\n\u001b[0;32m--> 582\u001b[0;31m                 \u001b[0;32mfor\u001b[0m \u001b[0mstarting_point\u001b[0m \u001b[0;32min\u001b[0m \u001b[0mself\u001b[0m\u001b[0;34m.\u001b[0m\u001b[0m_iterate_directories\u001b[0m\u001b[0;34m(\u001b[0m\u001b[0mparent_path\u001b[0m\u001b[0;34m,\u001b[0m \u001b[0mis_dir\u001b[0m\u001b[0;34m,\u001b[0m \u001b[0mscandir\u001b[0m\u001b[0;34m)\u001b[0m\u001b[0;34m:\u001b[0m\u001b[0;34m\u001b[0m\u001b[0;34m\u001b[0m\u001b[0m\n\u001b[0m\u001b[1;32m    583\u001b[0m                     \u001b[0;32mfor\u001b[0m \u001b[0mp\u001b[0m \u001b[0;32min\u001b[0m \u001b[0msuccessor_select\u001b[0m\u001b[0;34m(\u001b[0m\u001b[0mstarting_point\u001b[0m\u001b[0;34m,\u001b[0m \u001b[0mis_dir\u001b[0m\u001b[0;34m,\u001b[0m \u001b[0mexists\u001b[0m\u001b[0;34m,\u001b[0m \u001b[0mscandir\u001b[0m\u001b[0;34m)\u001b[0m\u001b[0;34m:\u001b[0m\u001b[0;34m\u001b[0m\u001b[0;34m\u001b[0m\u001b[0m\n\u001b[1;32m    584\u001b[0m                         \u001b[0;32mif\u001b[0m \u001b[0mp\u001b[0m \u001b[0;32mnot\u001b[0m \u001b[0;32min\u001b[0m \u001b[0myielded\u001b[0m\u001b[0;34m:\u001b[0m\u001b[0;34m\u001b[0m\u001b[0;34m\u001b[0m\u001b[0m\n",
      "\u001b[0;32m/home-local/anaconda/lib/python3.8/pathlib.py\u001b[0m in \u001b[0;36m_iterate_directories\u001b[0;34m(self, parent_path, is_dir, scandir)\u001b[0m\n\u001b[1;32m    570\u001b[0m                 \u001b[0;32mif\u001b[0m \u001b[0mentry_is_dir\u001b[0m \u001b[0;32mand\u001b[0m \u001b[0;32mnot\u001b[0m \u001b[0mentry\u001b[0m\u001b[0;34m.\u001b[0m\u001b[0mis_symlink\u001b[0m\u001b[0;34m(\u001b[0m\u001b[0;34m)\u001b[0m\u001b[0;34m:\u001b[0m\u001b[0;34m\u001b[0m\u001b[0;34m\u001b[0m\u001b[0m\n\u001b[1;32m    571\u001b[0m                     \u001b[0mpath\u001b[0m \u001b[0;34m=\u001b[0m \u001b[0mparent_path\u001b[0m\u001b[0;34m.\u001b[0m\u001b[0m_make_child_relpath\u001b[0m\u001b[0;34m(\u001b[0m\u001b[0mentry\u001b[0m\u001b[0;34m.\u001b[0m\u001b[0mname\u001b[0m\u001b[0;34m)\u001b[0m\u001b[0;34m\u001b[0m\u001b[0;34m\u001b[0m\u001b[0m\n\u001b[0;32m--> 572\u001b[0;31m                     \u001b[0;32mfor\u001b[0m \u001b[0mp\u001b[0m \u001b[0;32min\u001b[0m \u001b[0mself\u001b[0m\u001b[0;34m.\u001b[0m\u001b[0m_iterate_directories\u001b[0m\u001b[0;34m(\u001b[0m\u001b[0mpath\u001b[0m\u001b[0;34m,\u001b[0m \u001b[0mis_dir\u001b[0m\u001b[0;34m,\u001b[0m \u001b[0mscandir\u001b[0m\u001b[0;34m)\u001b[0m\u001b[0;34m:\u001b[0m\u001b[0;34m\u001b[0m\u001b[0;34m\u001b[0m\u001b[0m\n\u001b[0m\u001b[1;32m    573\u001b[0m                         \u001b[0;32myield\u001b[0m \u001b[0mp\u001b[0m\u001b[0;34m\u001b[0m\u001b[0;34m\u001b[0m\u001b[0m\n\u001b[1;32m    574\u001b[0m         \u001b[0;32mexcept\u001b[0m \u001b[0mPermissionError\u001b[0m\u001b[0;34m:\u001b[0m\u001b[0;34m\u001b[0m\u001b[0;34m\u001b[0m\u001b[0m\n",
      "\u001b[0;32m/home-local/anaconda/lib/python3.8/pathlib.py\u001b[0m in \u001b[0;36m_iterate_directories\u001b[0;34m(self, parent_path, is_dir, scandir)\u001b[0m\n\u001b[1;32m    570\u001b[0m                 \u001b[0;32mif\u001b[0m \u001b[0mentry_is_dir\u001b[0m \u001b[0;32mand\u001b[0m \u001b[0;32mnot\u001b[0m \u001b[0mentry\u001b[0m\u001b[0;34m.\u001b[0m\u001b[0mis_symlink\u001b[0m\u001b[0;34m(\u001b[0m\u001b[0;34m)\u001b[0m\u001b[0;34m:\u001b[0m\u001b[0;34m\u001b[0m\u001b[0;34m\u001b[0m\u001b[0m\n\u001b[1;32m    571\u001b[0m                     \u001b[0mpath\u001b[0m \u001b[0;34m=\u001b[0m \u001b[0mparent_path\u001b[0m\u001b[0;34m.\u001b[0m\u001b[0m_make_child_relpath\u001b[0m\u001b[0;34m(\u001b[0m\u001b[0mentry\u001b[0m\u001b[0;34m.\u001b[0m\u001b[0mname\u001b[0m\u001b[0;34m)\u001b[0m\u001b[0;34m\u001b[0m\u001b[0;34m\u001b[0m\u001b[0m\n\u001b[0;32m--> 572\u001b[0;31m                     \u001b[0;32mfor\u001b[0m \u001b[0mp\u001b[0m \u001b[0;32min\u001b[0m \u001b[0mself\u001b[0m\u001b[0;34m.\u001b[0m\u001b[0m_iterate_directories\u001b[0m\u001b[0;34m(\u001b[0m\u001b[0mpath\u001b[0m\u001b[0;34m,\u001b[0m \u001b[0mis_dir\u001b[0m\u001b[0;34m,\u001b[0m \u001b[0mscandir\u001b[0m\u001b[0;34m)\u001b[0m\u001b[0;34m:\u001b[0m\u001b[0;34m\u001b[0m\u001b[0;34m\u001b[0m\u001b[0m\n\u001b[0m\u001b[1;32m    573\u001b[0m                         \u001b[0;32myield\u001b[0m \u001b[0mp\u001b[0m\u001b[0;34m\u001b[0m\u001b[0;34m\u001b[0m\u001b[0m\n\u001b[1;32m    574\u001b[0m         \u001b[0;32mexcept\u001b[0m \u001b[0mPermissionError\u001b[0m\u001b[0;34m:\u001b[0m\u001b[0;34m\u001b[0m\u001b[0;34m\u001b[0m\u001b[0m\n",
      "\u001b[0;32m/home-local/anaconda/lib/python3.8/pathlib.py\u001b[0m in \u001b[0;36m_iterate_directories\u001b[0;34m(self, parent_path, is_dir, scandir)\u001b[0m\n\u001b[1;32m    570\u001b[0m                 \u001b[0;32mif\u001b[0m \u001b[0mentry_is_dir\u001b[0m \u001b[0;32mand\u001b[0m \u001b[0;32mnot\u001b[0m \u001b[0mentry\u001b[0m\u001b[0;34m.\u001b[0m\u001b[0mis_symlink\u001b[0m\u001b[0;34m(\u001b[0m\u001b[0;34m)\u001b[0m\u001b[0;34m:\u001b[0m\u001b[0;34m\u001b[0m\u001b[0;34m\u001b[0m\u001b[0m\n\u001b[1;32m    571\u001b[0m                     \u001b[0mpath\u001b[0m \u001b[0;34m=\u001b[0m \u001b[0mparent_path\u001b[0m\u001b[0;34m.\u001b[0m\u001b[0m_make_child_relpath\u001b[0m\u001b[0;34m(\u001b[0m\u001b[0mentry\u001b[0m\u001b[0;34m.\u001b[0m\u001b[0mname\u001b[0m\u001b[0;34m)\u001b[0m\u001b[0;34m\u001b[0m\u001b[0;34m\u001b[0m\u001b[0m\n\u001b[0;32m--> 572\u001b[0;31m                     \u001b[0;32mfor\u001b[0m \u001b[0mp\u001b[0m \u001b[0;32min\u001b[0m \u001b[0mself\u001b[0m\u001b[0;34m.\u001b[0m\u001b[0m_iterate_directories\u001b[0m\u001b[0;34m(\u001b[0m\u001b[0mpath\u001b[0m\u001b[0;34m,\u001b[0m \u001b[0mis_dir\u001b[0m\u001b[0;34m,\u001b[0m \u001b[0mscandir\u001b[0m\u001b[0;34m)\u001b[0m\u001b[0;34m:\u001b[0m\u001b[0;34m\u001b[0m\u001b[0;34m\u001b[0m\u001b[0m\n\u001b[0m\u001b[1;32m    573\u001b[0m                         \u001b[0;32myield\u001b[0m \u001b[0mp\u001b[0m\u001b[0;34m\u001b[0m\u001b[0;34m\u001b[0m\u001b[0m\n\u001b[1;32m    574\u001b[0m         \u001b[0;32mexcept\u001b[0m \u001b[0mPermissionError\u001b[0m\u001b[0;34m:\u001b[0m\u001b[0;34m\u001b[0m\u001b[0;34m\u001b[0m\u001b[0m\n",
      "\u001b[0;32m/home-local/anaconda/lib/python3.8/pathlib.py\u001b[0m in \u001b[0;36m_iterate_directories\u001b[0;34m(self, parent_path, is_dir, scandir)\u001b[0m\n\u001b[1;32m    570\u001b[0m                 \u001b[0;32mif\u001b[0m \u001b[0mentry_is_dir\u001b[0m \u001b[0;32mand\u001b[0m \u001b[0;32mnot\u001b[0m \u001b[0mentry\u001b[0m\u001b[0;34m.\u001b[0m\u001b[0mis_symlink\u001b[0m\u001b[0;34m(\u001b[0m\u001b[0;34m)\u001b[0m\u001b[0;34m:\u001b[0m\u001b[0;34m\u001b[0m\u001b[0;34m\u001b[0m\u001b[0m\n\u001b[1;32m    571\u001b[0m                     \u001b[0mpath\u001b[0m \u001b[0;34m=\u001b[0m \u001b[0mparent_path\u001b[0m\u001b[0;34m.\u001b[0m\u001b[0m_make_child_relpath\u001b[0m\u001b[0;34m(\u001b[0m\u001b[0mentry\u001b[0m\u001b[0;34m.\u001b[0m\u001b[0mname\u001b[0m\u001b[0;34m)\u001b[0m\u001b[0;34m\u001b[0m\u001b[0;34m\u001b[0m\u001b[0m\n\u001b[0;32m--> 572\u001b[0;31m                     \u001b[0;32mfor\u001b[0m \u001b[0mp\u001b[0m \u001b[0;32min\u001b[0m \u001b[0mself\u001b[0m\u001b[0;34m.\u001b[0m\u001b[0m_iterate_directories\u001b[0m\u001b[0;34m(\u001b[0m\u001b[0mpath\u001b[0m\u001b[0;34m,\u001b[0m \u001b[0mis_dir\u001b[0m\u001b[0;34m,\u001b[0m \u001b[0mscandir\u001b[0m\u001b[0;34m)\u001b[0m\u001b[0;34m:\u001b[0m\u001b[0;34m\u001b[0m\u001b[0;34m\u001b[0m\u001b[0m\n\u001b[0m\u001b[1;32m    573\u001b[0m                         \u001b[0;32myield\u001b[0m \u001b[0mp\u001b[0m\u001b[0;34m\u001b[0m\u001b[0;34m\u001b[0m\u001b[0m\n\u001b[1;32m    574\u001b[0m         \u001b[0;32mexcept\u001b[0m \u001b[0mPermissionError\u001b[0m\u001b[0;34m:\u001b[0m\u001b[0;34m\u001b[0m\u001b[0;34m\u001b[0m\u001b[0m\n",
      "\u001b[0;32m/home-local/anaconda/lib/python3.8/pathlib.py\u001b[0m in \u001b[0;36m_iterate_directories\u001b[0;34m(self, parent_path, is_dir, scandir)\u001b[0m\n\u001b[1;32m    559\u001b[0m         \u001b[0;32myield\u001b[0m \u001b[0mparent_path\u001b[0m\u001b[0;34m\u001b[0m\u001b[0;34m\u001b[0m\u001b[0m\n\u001b[1;32m    560\u001b[0m         \u001b[0;32mtry\u001b[0m\u001b[0;34m:\u001b[0m\u001b[0;34m\u001b[0m\u001b[0;34m\u001b[0m\u001b[0m\n\u001b[0;32m--> 561\u001b[0;31m             \u001b[0;32mwith\u001b[0m \u001b[0mscandir\u001b[0m\u001b[0;34m(\u001b[0m\u001b[0mparent_path\u001b[0m\u001b[0;34m)\u001b[0m \u001b[0;32mas\u001b[0m \u001b[0mscandir_it\u001b[0m\u001b[0;34m:\u001b[0m\u001b[0;34m\u001b[0m\u001b[0;34m\u001b[0m\u001b[0m\n\u001b[0m\u001b[1;32m    562\u001b[0m                 \u001b[0mentries\u001b[0m \u001b[0;34m=\u001b[0m \u001b[0mlist\u001b[0m\u001b[0;34m(\u001b[0m\u001b[0mscandir_it\u001b[0m\u001b[0;34m)\u001b[0m\u001b[0;34m\u001b[0m\u001b[0;34m\u001b[0m\u001b[0m\n\u001b[1;32m    563\u001b[0m             \u001b[0;32mfor\u001b[0m \u001b[0mentry\u001b[0m \u001b[0;32min\u001b[0m \u001b[0mentries\u001b[0m\u001b[0;34m:\u001b[0m\u001b[0;34m\u001b[0m\u001b[0;34m\u001b[0m\u001b[0m\n",
      "\u001b[0;31mKeyboardInterrupt\u001b[0m: "
     ]
    }
   ],
   "source": [
    "#Nifti file symlink\n",
    "for file in raw_path.rglob('*data.nii.gz'):\n",
    "    if file.is_file():\n",
    "        #print(file)\n",
    "        sub = 'sub-' + \"\".join(file.parent.parent.parent.name)\n",
    "        sub_name = 'sub-' + \"\".join(file.parent.parent.parent.name) + \"_dwi.\"\n",
    "        file_name = sub_name + str(file).split('.', 1)[1]\n",
    "        final_file = str(BIDS_path) + '/' + sub + '/' + diff + '/' + file_name\n",
    "        #print(final_file)\n",
    "        print(\"ln -s \" + str(file) + \" \" + final_file)\n",
    "        #os.symlink(str(file), final_file)"
   ]
  },
  {
   "cell_type": "code",
   "execution_count": 124,
   "metadata": {},
   "outputs": [
    {
     "name": "stdout",
     "output_type": "stream",
     "text": [
      "sub-data_T1w.nii.gz\n",
      "sub-data_T1w.nii.gz\n",
      "sub-data_T1w.nii.gz\n",
      "sub-data_T1w.nii.gz\n",
      "sub-data_T1w.nii.gz\n",
      "sub-data_T1w.nii.gz\n",
      "sub-data_T1w.nii.gz\n",
      "sub-data_T1w.nii.gz\n",
      "sub-data_T1w.nii.gz\n",
      "sub-data_T1w.nii.gz\n",
      "sub-data_T1w.nii.gz\n",
      "sub-data_T1w.nii.gz\n"
     ]
    },
    {
     "ename": "KeyboardInterrupt",
     "evalue": "",
     "output_type": "error",
     "traceback": [
      "\u001b[0;31m---------------------------------------------------------------------------\u001b[0m",
      "\u001b[0;31mKeyboardInterrupt\u001b[0m                         Traceback (most recent call last)",
      "\u001b[0;32m<ipython-input-124-1c05aac65713>\u001b[0m in \u001b[0;36m<module>\u001b[0;34m\u001b[0m\n\u001b[1;32m      1\u001b[0m \u001b[0;31m#Organizing anat data for HCP_YA data\u001b[0m\u001b[0;34m\u001b[0m\u001b[0;34m\u001b[0m\u001b[0;34m\u001b[0m\u001b[0m\n\u001b[0;32m----> 2\u001b[0;31m \u001b[0;32mfor\u001b[0m \u001b[0mfile\u001b[0m \u001b[0;32min\u001b[0m \u001b[0mraw_path\u001b[0m\u001b[0;34m.\u001b[0m\u001b[0mrglob\u001b[0m\u001b[0;34m(\u001b[0m\u001b[0;34m\"*restore.nii.gz\"\u001b[0m\u001b[0;34m)\u001b[0m\u001b[0;34m:\u001b[0m\u001b[0;34m\u001b[0m\u001b[0;34m\u001b[0m\u001b[0m\n\u001b[0m\u001b[1;32m      3\u001b[0m     \u001b[0;31m#print(file)\u001b[0m\u001b[0;34m\u001b[0m\u001b[0;34m\u001b[0m\u001b[0;34m\u001b[0m\u001b[0m\n\u001b[1;32m      4\u001b[0m     \u001b[0;31m#sub = 'sub-' + \"\".join(file.parent.parent.parent.name)\u001b[0m\u001b[0;34m\u001b[0m\u001b[0;34m\u001b[0m\u001b[0;34m\u001b[0m\u001b[0m\n\u001b[1;32m      5\u001b[0m     \u001b[0;31m#sub_name = 'sub-' + \"\".join(file.parent.parent.parent.name) + \"_T1w.\"\u001b[0m\u001b[0;34m\u001b[0m\u001b[0;34m\u001b[0m\u001b[0;34m\u001b[0m\u001b[0m\n",
      "\u001b[0;32m/home-local/anaconda/lib/python3.8/pathlib.py\u001b[0m in \u001b[0;36mrglob\u001b[0;34m(self, pattern)\u001b[0m\n\u001b[1;32m   1146\u001b[0m             \u001b[0;32mraise\u001b[0m \u001b[0mNotImplementedError\u001b[0m\u001b[0;34m(\u001b[0m\u001b[0;34m\"Non-relative patterns are unsupported\"\u001b[0m\u001b[0;34m)\u001b[0m\u001b[0;34m\u001b[0m\u001b[0;34m\u001b[0m\u001b[0m\n\u001b[1;32m   1147\u001b[0m         \u001b[0mselector\u001b[0m \u001b[0;34m=\u001b[0m \u001b[0m_make_selector\u001b[0m\u001b[0;34m(\u001b[0m\u001b[0;34m(\u001b[0m\u001b[0;34m\"**\"\u001b[0m\u001b[0;34m,\u001b[0m\u001b[0;34m)\u001b[0m \u001b[0;34m+\u001b[0m \u001b[0mtuple\u001b[0m\u001b[0;34m(\u001b[0m\u001b[0mpattern_parts\u001b[0m\u001b[0;34m)\u001b[0m\u001b[0;34m,\u001b[0m \u001b[0mself\u001b[0m\u001b[0;34m.\u001b[0m\u001b[0m_flavour\u001b[0m\u001b[0;34m)\u001b[0m\u001b[0;34m\u001b[0m\u001b[0;34m\u001b[0m\u001b[0m\n\u001b[0;32m-> 1148\u001b[0;31m         \u001b[0;32mfor\u001b[0m \u001b[0mp\u001b[0m \u001b[0;32min\u001b[0m \u001b[0mselector\u001b[0m\u001b[0;34m.\u001b[0m\u001b[0mselect_from\u001b[0m\u001b[0;34m(\u001b[0m\u001b[0mself\u001b[0m\u001b[0;34m)\u001b[0m\u001b[0;34m:\u001b[0m\u001b[0;34m\u001b[0m\u001b[0;34m\u001b[0m\u001b[0m\n\u001b[0m\u001b[1;32m   1149\u001b[0m             \u001b[0;32myield\u001b[0m \u001b[0mp\u001b[0m\u001b[0;34m\u001b[0m\u001b[0;34m\u001b[0m\u001b[0m\n\u001b[1;32m   1150\u001b[0m \u001b[0;34m\u001b[0m\u001b[0m\n",
      "\u001b[0;32m/home-local/anaconda/lib/python3.8/pathlib.py\u001b[0m in \u001b[0;36m_select_from\u001b[0;34m(self, parent_path, is_dir, exists, scandir)\u001b[0m\n\u001b[1;32m    580\u001b[0m             \u001b[0;32mtry\u001b[0m\u001b[0;34m:\u001b[0m\u001b[0;34m\u001b[0m\u001b[0;34m\u001b[0m\u001b[0m\n\u001b[1;32m    581\u001b[0m                 \u001b[0msuccessor_select\u001b[0m \u001b[0;34m=\u001b[0m \u001b[0mself\u001b[0m\u001b[0;34m.\u001b[0m\u001b[0msuccessor\u001b[0m\u001b[0;34m.\u001b[0m\u001b[0m_select_from\u001b[0m\u001b[0;34m\u001b[0m\u001b[0;34m\u001b[0m\u001b[0m\n\u001b[0;32m--> 582\u001b[0;31m                 \u001b[0;32mfor\u001b[0m \u001b[0mstarting_point\u001b[0m \u001b[0;32min\u001b[0m \u001b[0mself\u001b[0m\u001b[0;34m.\u001b[0m\u001b[0m_iterate_directories\u001b[0m\u001b[0;34m(\u001b[0m\u001b[0mparent_path\u001b[0m\u001b[0;34m,\u001b[0m \u001b[0mis_dir\u001b[0m\u001b[0;34m,\u001b[0m \u001b[0mscandir\u001b[0m\u001b[0;34m)\u001b[0m\u001b[0;34m:\u001b[0m\u001b[0;34m\u001b[0m\u001b[0;34m\u001b[0m\u001b[0m\n\u001b[0m\u001b[1;32m    583\u001b[0m                     \u001b[0;32mfor\u001b[0m \u001b[0mp\u001b[0m \u001b[0;32min\u001b[0m \u001b[0msuccessor_select\u001b[0m\u001b[0;34m(\u001b[0m\u001b[0mstarting_point\u001b[0m\u001b[0;34m,\u001b[0m \u001b[0mis_dir\u001b[0m\u001b[0;34m,\u001b[0m \u001b[0mexists\u001b[0m\u001b[0;34m,\u001b[0m \u001b[0mscandir\u001b[0m\u001b[0;34m)\u001b[0m\u001b[0;34m:\u001b[0m\u001b[0;34m\u001b[0m\u001b[0;34m\u001b[0m\u001b[0m\n\u001b[1;32m    584\u001b[0m                         \u001b[0;32mif\u001b[0m \u001b[0mp\u001b[0m \u001b[0;32mnot\u001b[0m \u001b[0;32min\u001b[0m \u001b[0myielded\u001b[0m\u001b[0;34m:\u001b[0m\u001b[0;34m\u001b[0m\u001b[0;34m\u001b[0m\u001b[0m\n",
      "\u001b[0;32m/home-local/anaconda/lib/python3.8/pathlib.py\u001b[0m in \u001b[0;36m_iterate_directories\u001b[0;34m(self, parent_path, is_dir, scandir)\u001b[0m\n\u001b[1;32m    570\u001b[0m                 \u001b[0;32mif\u001b[0m \u001b[0mentry_is_dir\u001b[0m \u001b[0;32mand\u001b[0m \u001b[0;32mnot\u001b[0m \u001b[0mentry\u001b[0m\u001b[0;34m.\u001b[0m\u001b[0mis_symlink\u001b[0m\u001b[0;34m(\u001b[0m\u001b[0;34m)\u001b[0m\u001b[0;34m:\u001b[0m\u001b[0;34m\u001b[0m\u001b[0;34m\u001b[0m\u001b[0m\n\u001b[1;32m    571\u001b[0m                     \u001b[0mpath\u001b[0m \u001b[0;34m=\u001b[0m \u001b[0mparent_path\u001b[0m\u001b[0;34m.\u001b[0m\u001b[0m_make_child_relpath\u001b[0m\u001b[0;34m(\u001b[0m\u001b[0mentry\u001b[0m\u001b[0;34m.\u001b[0m\u001b[0mname\u001b[0m\u001b[0;34m)\u001b[0m\u001b[0;34m\u001b[0m\u001b[0;34m\u001b[0m\u001b[0m\n\u001b[0;32m--> 572\u001b[0;31m                     \u001b[0;32mfor\u001b[0m \u001b[0mp\u001b[0m \u001b[0;32min\u001b[0m \u001b[0mself\u001b[0m\u001b[0;34m.\u001b[0m\u001b[0m_iterate_directories\u001b[0m\u001b[0;34m(\u001b[0m\u001b[0mpath\u001b[0m\u001b[0;34m,\u001b[0m \u001b[0mis_dir\u001b[0m\u001b[0;34m,\u001b[0m \u001b[0mscandir\u001b[0m\u001b[0;34m)\u001b[0m\u001b[0;34m:\u001b[0m\u001b[0;34m\u001b[0m\u001b[0;34m\u001b[0m\u001b[0m\n\u001b[0m\u001b[1;32m    573\u001b[0m                         \u001b[0;32myield\u001b[0m \u001b[0mp\u001b[0m\u001b[0;34m\u001b[0m\u001b[0;34m\u001b[0m\u001b[0m\n\u001b[1;32m    574\u001b[0m         \u001b[0;32mexcept\u001b[0m \u001b[0mPermissionError\u001b[0m\u001b[0;34m:\u001b[0m\u001b[0;34m\u001b[0m\u001b[0;34m\u001b[0m\u001b[0m\n",
      "\u001b[0;32m/home-local/anaconda/lib/python3.8/pathlib.py\u001b[0m in \u001b[0;36m_iterate_directories\u001b[0;34m(self, parent_path, is_dir, scandir)\u001b[0m\n\u001b[1;32m    570\u001b[0m                 \u001b[0;32mif\u001b[0m \u001b[0mentry_is_dir\u001b[0m \u001b[0;32mand\u001b[0m \u001b[0;32mnot\u001b[0m \u001b[0mentry\u001b[0m\u001b[0;34m.\u001b[0m\u001b[0mis_symlink\u001b[0m\u001b[0;34m(\u001b[0m\u001b[0;34m)\u001b[0m\u001b[0;34m:\u001b[0m\u001b[0;34m\u001b[0m\u001b[0;34m\u001b[0m\u001b[0m\n\u001b[1;32m    571\u001b[0m                     \u001b[0mpath\u001b[0m \u001b[0;34m=\u001b[0m \u001b[0mparent_path\u001b[0m\u001b[0;34m.\u001b[0m\u001b[0m_make_child_relpath\u001b[0m\u001b[0;34m(\u001b[0m\u001b[0mentry\u001b[0m\u001b[0;34m.\u001b[0m\u001b[0mname\u001b[0m\u001b[0;34m)\u001b[0m\u001b[0;34m\u001b[0m\u001b[0;34m\u001b[0m\u001b[0m\n\u001b[0;32m--> 572\u001b[0;31m                     \u001b[0;32mfor\u001b[0m \u001b[0mp\u001b[0m \u001b[0;32min\u001b[0m \u001b[0mself\u001b[0m\u001b[0;34m.\u001b[0m\u001b[0m_iterate_directories\u001b[0m\u001b[0;34m(\u001b[0m\u001b[0mpath\u001b[0m\u001b[0;34m,\u001b[0m \u001b[0mis_dir\u001b[0m\u001b[0;34m,\u001b[0m \u001b[0mscandir\u001b[0m\u001b[0;34m)\u001b[0m\u001b[0;34m:\u001b[0m\u001b[0;34m\u001b[0m\u001b[0;34m\u001b[0m\u001b[0m\n\u001b[0m\u001b[1;32m    573\u001b[0m                         \u001b[0;32myield\u001b[0m \u001b[0mp\u001b[0m\u001b[0;34m\u001b[0m\u001b[0;34m\u001b[0m\u001b[0m\n\u001b[1;32m    574\u001b[0m         \u001b[0;32mexcept\u001b[0m \u001b[0mPermissionError\u001b[0m\u001b[0;34m:\u001b[0m\u001b[0;34m\u001b[0m\u001b[0;34m\u001b[0m\u001b[0m\n",
      "\u001b[0;32m/home-local/anaconda/lib/python3.8/pathlib.py\u001b[0m in \u001b[0;36m_iterate_directories\u001b[0;34m(self, parent_path, is_dir, scandir)\u001b[0m\n\u001b[1;32m    570\u001b[0m                 \u001b[0;32mif\u001b[0m \u001b[0mentry_is_dir\u001b[0m \u001b[0;32mand\u001b[0m \u001b[0;32mnot\u001b[0m \u001b[0mentry\u001b[0m\u001b[0;34m.\u001b[0m\u001b[0mis_symlink\u001b[0m\u001b[0;34m(\u001b[0m\u001b[0;34m)\u001b[0m\u001b[0;34m:\u001b[0m\u001b[0;34m\u001b[0m\u001b[0;34m\u001b[0m\u001b[0m\n\u001b[1;32m    571\u001b[0m                     \u001b[0mpath\u001b[0m \u001b[0;34m=\u001b[0m \u001b[0mparent_path\u001b[0m\u001b[0;34m.\u001b[0m\u001b[0m_make_child_relpath\u001b[0m\u001b[0;34m(\u001b[0m\u001b[0mentry\u001b[0m\u001b[0;34m.\u001b[0m\u001b[0mname\u001b[0m\u001b[0;34m)\u001b[0m\u001b[0;34m\u001b[0m\u001b[0;34m\u001b[0m\u001b[0m\n\u001b[0;32m--> 572\u001b[0;31m                     \u001b[0;32mfor\u001b[0m \u001b[0mp\u001b[0m \u001b[0;32min\u001b[0m \u001b[0mself\u001b[0m\u001b[0;34m.\u001b[0m\u001b[0m_iterate_directories\u001b[0m\u001b[0;34m(\u001b[0m\u001b[0mpath\u001b[0m\u001b[0;34m,\u001b[0m \u001b[0mis_dir\u001b[0m\u001b[0;34m,\u001b[0m \u001b[0mscandir\u001b[0m\u001b[0;34m)\u001b[0m\u001b[0;34m:\u001b[0m\u001b[0;34m\u001b[0m\u001b[0;34m\u001b[0m\u001b[0m\n\u001b[0m\u001b[1;32m    573\u001b[0m                         \u001b[0;32myield\u001b[0m \u001b[0mp\u001b[0m\u001b[0;34m\u001b[0m\u001b[0;34m\u001b[0m\u001b[0m\n\u001b[1;32m    574\u001b[0m         \u001b[0;32mexcept\u001b[0m \u001b[0mPermissionError\u001b[0m\u001b[0;34m:\u001b[0m\u001b[0;34m\u001b[0m\u001b[0;34m\u001b[0m\u001b[0m\n",
      "\u001b[0;32m/home-local/anaconda/lib/python3.8/pathlib.py\u001b[0m in \u001b[0;36m_iterate_directories\u001b[0;34m(self, parent_path, is_dir, scandir)\u001b[0m\n\u001b[1;32m    570\u001b[0m                 \u001b[0;32mif\u001b[0m \u001b[0mentry_is_dir\u001b[0m \u001b[0;32mand\u001b[0m \u001b[0;32mnot\u001b[0m \u001b[0mentry\u001b[0m\u001b[0;34m.\u001b[0m\u001b[0mis_symlink\u001b[0m\u001b[0;34m(\u001b[0m\u001b[0;34m)\u001b[0m\u001b[0;34m:\u001b[0m\u001b[0;34m\u001b[0m\u001b[0;34m\u001b[0m\u001b[0m\n\u001b[1;32m    571\u001b[0m                     \u001b[0mpath\u001b[0m \u001b[0;34m=\u001b[0m \u001b[0mparent_path\u001b[0m\u001b[0;34m.\u001b[0m\u001b[0m_make_child_relpath\u001b[0m\u001b[0;34m(\u001b[0m\u001b[0mentry\u001b[0m\u001b[0;34m.\u001b[0m\u001b[0mname\u001b[0m\u001b[0;34m)\u001b[0m\u001b[0;34m\u001b[0m\u001b[0;34m\u001b[0m\u001b[0m\n\u001b[0;32m--> 572\u001b[0;31m                     \u001b[0;32mfor\u001b[0m \u001b[0mp\u001b[0m \u001b[0;32min\u001b[0m \u001b[0mself\u001b[0m\u001b[0;34m.\u001b[0m\u001b[0m_iterate_directories\u001b[0m\u001b[0;34m(\u001b[0m\u001b[0mpath\u001b[0m\u001b[0;34m,\u001b[0m \u001b[0mis_dir\u001b[0m\u001b[0;34m,\u001b[0m \u001b[0mscandir\u001b[0m\u001b[0;34m)\u001b[0m\u001b[0;34m:\u001b[0m\u001b[0;34m\u001b[0m\u001b[0;34m\u001b[0m\u001b[0m\n\u001b[0m\u001b[1;32m    573\u001b[0m                         \u001b[0;32myield\u001b[0m \u001b[0mp\u001b[0m\u001b[0;34m\u001b[0m\u001b[0;34m\u001b[0m\u001b[0m\n\u001b[1;32m    574\u001b[0m         \u001b[0;32mexcept\u001b[0m \u001b[0mPermissionError\u001b[0m\u001b[0;34m:\u001b[0m\u001b[0;34m\u001b[0m\u001b[0;34m\u001b[0m\u001b[0m\n",
      "\u001b[0;32m/home-local/anaconda/lib/python3.8/pathlib.py\u001b[0m in \u001b[0;36m_iterate_directories\u001b[0;34m(self, parent_path, is_dir, scandir)\u001b[0m\n\u001b[1;32m    559\u001b[0m         \u001b[0;32myield\u001b[0m \u001b[0mparent_path\u001b[0m\u001b[0;34m\u001b[0m\u001b[0;34m\u001b[0m\u001b[0m\n\u001b[1;32m    560\u001b[0m         \u001b[0;32mtry\u001b[0m\u001b[0;34m:\u001b[0m\u001b[0;34m\u001b[0m\u001b[0;34m\u001b[0m\u001b[0m\n\u001b[0;32m--> 561\u001b[0;31m             \u001b[0;32mwith\u001b[0m \u001b[0mscandir\u001b[0m\u001b[0;34m(\u001b[0m\u001b[0mparent_path\u001b[0m\u001b[0;34m)\u001b[0m \u001b[0;32mas\u001b[0m \u001b[0mscandir_it\u001b[0m\u001b[0;34m:\u001b[0m\u001b[0;34m\u001b[0m\u001b[0;34m\u001b[0m\u001b[0m\n\u001b[0m\u001b[1;32m    562\u001b[0m                 \u001b[0mentries\u001b[0m \u001b[0;34m=\u001b[0m \u001b[0mlist\u001b[0m\u001b[0;34m(\u001b[0m\u001b[0mscandir_it\u001b[0m\u001b[0;34m)\u001b[0m\u001b[0;34m\u001b[0m\u001b[0;34m\u001b[0m\u001b[0m\n\u001b[1;32m    563\u001b[0m             \u001b[0;32mfor\u001b[0m \u001b[0mentry\u001b[0m \u001b[0;32min\u001b[0m \u001b[0mentries\u001b[0m\u001b[0;34m:\u001b[0m\u001b[0;34m\u001b[0m\u001b[0;34m\u001b[0m\u001b[0m\n",
      "\u001b[0;31mKeyboardInterrupt\u001b[0m: "
     ]
    }
   ],
   "source": [
    "#Organizing anat data for HCP_YA data\n",
    "for file in raw_path.rglob(\"*T1w_acpc_dc_restore.nii.gz\"):\n",
    "    #print(file)\n",
    "    sub = 'sub-' + \"\".join(file.parent.parent.parent.name)\n",
    "    \n",
    "    #sub_name = 'sub-' + \"\".join(file.parent.parent.parent.name) + \"_T1w.\"\n",
    "    #file_name = sub_name + str(file).split('.', 1)[1]\n",
    "    #print(file_name)"
   ]
  },
  {
   "cell_type": "code",
   "execution_count": null,
   "metadata": {},
   "outputs": [],
   "source": []
  }
 ],
 "metadata": {
  "kernelspec": {
   "display_name": "Python 3.8.3 ('base': conda)",
   "language": "python",
   "name": "python3"
  },
  "language_info": {
   "codemirror_mode": {
    "name": "ipython",
    "version": 3
   },
   "file_extension": ".py",
   "mimetype": "text/x-python",
   "name": "python",
   "nbconvert_exporter": "python",
   "pygments_lexer": "ipython3",
   "version": "3.8.3"
  },
  "orig_nbformat": 4,
  "vscode": {
   "interpreter": {
    "hash": "125c707874e141a70c0480f741fe538402e348dce6a8060bd7c1685fb49a4b44"
   }
  }
 },
 "nbformat": 4,
 "nbformat_minor": 2
}
