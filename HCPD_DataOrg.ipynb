{
 "cells": [
  {
   "cell_type": "code",
   "execution_count": 16,
   "metadata": {},
   "outputs": [],
   "source": [
    "import pandas as pd\n",
    "from tqdm import tqdm\n",
    "import os\n",
    "from glob import glob\n",
    "from pathlib import Path\n"
   ]
  },
  {
   "cell_type": "code",
   "execution_count": 17,
   "metadata": {},
   "outputs": [
    {
     "data": {
      "text/plain": [
       "PosixPath('/nfs2/harmonization/BIDS/HCPD')"
      ]
     },
     "execution_count": 17,
     "metadata": {},
     "output_type": "execute_result"
    }
   ],
   "source": [
    "new_path = Path('/nfs2/harmonization/BIDS/HCPD/')\n",
    "new_path.resolve()"
   ]
  },
  {
   "cell_type": "code",
   "execution_count": 14,
   "metadata": {},
   "outputs": [
    {
     "data": {
      "text/plain": [
       "PosixPath('/nfs2/harmonization/raw/HCP_Dev_Nancy')"
      ]
     },
     "execution_count": 14,
     "metadata": {},
     "output_type": "execute_result"
    }
   ],
   "source": [
    "#Check for T1s in the HCPD dataset\n",
    "raw_path = Path('/nfs2/harmonization/raw/HCP_Dev_Nancy/')\n",
    "raw_path.resolve()"
   ]
  },
  {
   "cell_type": "code",
   "execution_count": 20,
   "metadata": {},
   "outputs": [
    {
     "name": "stderr",
     "output_type": "stream",
     "text": [
      "626it [00:13, 45.54it/s] "
     ]
    },
    {
     "name": "stdout",
     "output_type": "stream",
     "text": [
      "Total number of T1s: 626\n"
     ]
    },
    {
     "name": "stderr",
     "output_type": "stream",
     "text": [
      "\n"
     ]
    }
   ],
   "source": [
    "total = 0\n",
    "for file in tqdm(raw_path.rglob('*T1.nii.gz')):\n",
    "    if file.is_file:\n",
    "        total = total + 1\n",
    "\n",
    "print('Total number of T1s:', total)"
   ]
  },
  {
   "cell_type": "code",
   "execution_count": 50,
   "metadata": {},
   "outputs": [
    {
     "name": "stderr",
     "output_type": "stream",
     "text": [
      "626it [00:14, 42.09it/s]\n"
     ]
    }
   ],
   "source": [
    "#Deleted incorrectly created symlinks\n",
    "for file in tqdm(new_path.rglob('*_dwi.nii.gz')):\n",
    "    os.unlink(file)"
   ]
  },
  {
   "cell_type": "code",
   "execution_count": 42,
   "metadata": {},
   "outputs": [
    {
     "name": "stderr",
     "output_type": "stream",
     "text": [
      "626it [00:17, 35.25it/s]\n"
     ]
    }
   ],
   "source": [
    "#Creating symlinks for the HCPD T1s in the anat directory of HCPD in /nfs2/harmonization/BIDS/HCPD\n",
    "for file in tqdm(raw_path.rglob('*T1.nii.gz')):\n",
    "    #print(file)\n",
    "    sub = 'sub-' + \"\".join(file.parent.name) # Obtaining the subject\n",
    "    sub_name = 'sub-' + \"\".join(file.parent.name) + \"_T1w\" + \".nii.gz\" #Obtaining the subject name\n",
    "    final_file = str(new_path) + '/' + sub + '/'+ 'anat' + '/' + sub_name #Creating the final file \n",
    "    #print(\"ln -s \" + str(file) + \" \" + final_file) #Printing out the symlink from source to destination\n",
    "    os.symlink(str(file), final_file)\n"
   ]
  },
  {
   "cell_type": "code",
   "execution_count": 51,
   "metadata": {},
   "outputs": [
    {
     "name": "stderr",
     "output_type": "stream",
     "text": [
      "405it [00:12, 33.31it/s]\n"
     ]
    }
   ],
   "source": [
    "#Overwriting old Symlinks of diffusion data in the dwi directory of HCPD in /nfs2/harmonization/BIDS/HCPD\n",
    "for file in tqdm(raw_path.rglob('*_conv.nii.gz')):\n",
    "    #print(file)\n",
    "    sub = 'sub-' + \"\".join(file.parent.name)\n",
    "    sub_name = 'sub-' + \"\".join(file.parent.name) + \"_dwi\" + \".nii.gz\" \n",
    "    final_file = str(new_path) + '/' + sub + '/' + 'dwi' + '/' + sub_name\n",
    "    #print(\"ln -s \" + str(file) + \" \" + final_file)\n",
    "    os.symlink(str(file), final_file)"
   ]
  },
  {
   "cell_type": "code",
   "execution_count": 53,
   "metadata": {},
   "outputs": [
    {
     "name": "stderr",
     "output_type": "stream",
     "text": [
      "405it [00:03, 104.22it/s]"
     ]
    },
    {
     "name": "stdout",
     "output_type": "stream",
     "text": [
      "Total number of diffusion images: 405\n"
     ]
    },
    {
     "name": "stderr",
     "output_type": "stream",
     "text": [
      "\n"
     ]
    }
   ],
   "source": [
    "#Check if all the new dwi symlinks exist \n",
    "total = 0\n",
    "for file in tqdm(new_path.rglob('*_dwi.nii.gz')):\n",
    "    if file.is_file:\n",
    "        total = total + 1\n",
    "    else:\n",
    "        print(\"Missing files: \")\n",
    "        print(file)\n",
    "\n",
    "print('Total number of diffusion images:', total)"
   ]
  },
  {
   "cell_type": "code",
   "execution_count": 57,
   "metadata": {},
   "outputs": [
    {
     "name": "stderr",
     "output_type": "stream",
     "text": [
      "405it [00:05, 76.86it/s]"
     ]
    },
    {
     "name": "stdout",
     "output_type": "stream",
     "text": [
      "405\n"
     ]
    },
    {
     "name": "stderr",
     "output_type": "stream",
     "text": [
      "\n"
     ]
    }
   ],
   "source": [
    "total = 0\n",
    "for file in tqdm(raw_path.rglob('*_conv.nii.gz')):\n",
    "    total = total +1 \n",
    "\n",
    "print(total)"
   ]
  },
  {
   "cell_type": "code",
   "execution_count": null,
   "metadata": {},
   "outputs": [],
   "source": []
  }
 ],
 "metadata": {
  "kernelspec": {
   "display_name": "Python 3.8.3 ('base': conda)",
   "language": "python",
   "name": "python3"
  },
  "language_info": {
   "codemirror_mode": {
    "name": "ipython",
    "version": 3
   },
   "file_extension": ".py",
   "mimetype": "text/x-python",
   "name": "python",
   "nbconvert_exporter": "python",
   "pygments_lexer": "ipython3",
   "version": "3.8.3"
  },
  "orig_nbformat": 4,
  "vscode": {
   "interpreter": {
    "hash": "125c707874e141a70c0480f741fe538402e348dce6a8060bd7c1685fb49a4b44"
   }
  }
 },
 "nbformat": 4,
 "nbformat_minor": 2
}
