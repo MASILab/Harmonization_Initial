{
 "cells": [
  {
   "cell_type": "code",
   "execution_count": 11,
   "metadata": {},
   "outputs": [],
   "source": [
    "import os \n",
    "import glob\n",
    "import tqdm\n",
    "from pathlib import Path"
   ]
  },
  {
   "cell_type": "code",
   "execution_count": 3,
   "metadata": {},
   "outputs": [
    {
     "data": {
      "text/plain": [
       "1208"
      ]
     },
     "execution_count": 3,
     "metadata": {},
     "output_type": "execute_result"
    }
   ],
   "source": [
    "path_name = \"/nfs2/harmonization/raw/HCP/data\"\n",
    "len(os.listdir(path_name))"
   ]
  },
  {
   "cell_type": "code",
   "execution_count": 4,
   "metadata": {},
   "outputs": [
    {
     "data": {
      "text/plain": [
       "True"
      ]
     },
     "execution_count": 4,
     "metadata": {},
     "output_type": "execute_result"
    }
   ],
   "source": [
    "os.access(path_name, os.X_OK | os.W_OK | os.R_OK)\n",
    "#works"
   ]
  },
  {
   "cell_type": "code",
   "execution_count": 28,
   "metadata": {},
   "outputs": [
    {
     "name": "stdout",
     "output_type": "stream",
     "text": [
      "Total number of subjects in HCP data = 1206\n"
     ]
    }
   ],
   "source": [
    "ttl_folders = len(glob.glob(\"/nfs2/harmonization/raw/HCP/data/**/T1w/Diffusion/\"))\n",
    "print(\"Total number of subjects in HCP data =\", ttl_folders)"
   ]
  },
  {
   "cell_type": "code",
   "execution_count": 34,
   "metadata": {},
   "outputs": [
    {
     "name": "stdout",
     "output_type": "stream",
     "text": [
      "Total number of bvals in HCP data for the respective sessions: 1065\n",
      "Total number of bvals in HCP data for the respective sessions: 1065\n",
      "Total number of bvals in HCP data for the respective sessions: 1065\n",
      "Total number of bvals in HCP data for the respective sessions: 1064\n",
      "Total number of bvals in HCP data for the respective sessions: 1065\n"
     ]
    }
   ],
   "source": [
    "#Identifying which files have bvals, bvecs, nifti files, grad_dev and masks\n",
    "chk_bval = glob.glob(\"/nfs2/harmonization/raw/HCP/data/**/T1w/Diffusion/*bvals\")\n",
    "chk_bvec = glob.glob(\"/nfs2/harmonization/raw/HCP/data/**/T1w/Diffusion/*bvecs\")\n",
    "chk_data = glob.glob(\"/nfs2/harmonization/raw/HCP/data/**/T1w/Diffusion/*data.nii.gz\")\n",
    "chk_gdev = glob.glob(\"/nfs2/harmonization/raw/HCP/data/**/T1w/Diffusion/*grad_dev.nii.gz\")\n",
    "chk_mask = glob.glob(\"/nfs2/harmonization/raw/HCP/data/**/T1w/Diffusion/*nodif_brain_mask.nii.gz\")\n",
    "print(\"Total number of bvals in HCP data for the respective sessions:\", len(chk_mask))\n",
    "print(\"Total number of bvals in HCP data for the respective sessions:\", len(chk_bval))\n",
    "print(\"Total number of bvals in HCP data for the respective sessions:\", len(chk_bvec))\n",
    "print(\"Total number of bvals in HCP data for the respective sessions:\", len(chk_data))\n",
    "print(\"Total number of bvals in HCP data for the respective sessions:\", len(chk_gdev))"
   ]
  },
  {
   "cell_type": "code",
   "execution_count": null,
   "metadata": {},
   "outputs": [],
   "source": []
  }
 ],
 "metadata": {
  "kernelspec": {
   "display_name": "Python 3.8.3 ('base')",
   "language": "python",
   "name": "python3"
  },
  "language_info": {
   "codemirror_mode": {
    "name": "ipython",
    "version": 3
   },
   "file_extension": ".py",
   "mimetype": "text/x-python",
   "name": "python",
   "nbconvert_exporter": "python",
   "pygments_lexer": "ipython3",
   "version": "3.8.3"
  },
  "orig_nbformat": 4,
  "vscode": {
   "interpreter": {
    "hash": "125c707874e141a70c0480f741fe538402e348dce6a8060bd7c1685fb49a4b44"
   }
  }
 },
 "nbformat": 4,
 "nbformat_minor": 2
}
