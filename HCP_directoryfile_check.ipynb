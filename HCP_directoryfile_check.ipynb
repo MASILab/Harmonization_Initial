{
 "cells": [
  {
   "cell_type": "code",
   "execution_count": 36,
   "metadata": {},
   "outputs": [],
   "source": [
    "import os \n",
    "import glob\n",
    "import tqdm\n",
    "from pathlib import Path\n",
    "import nibabel as nib"
   ]
  },
  {
   "cell_type": "code",
   "execution_count": 3,
   "metadata": {},
   "outputs": [
    {
     "data": {
      "text/plain": [
       "1208"
      ]
     },
     "execution_count": 3,
     "metadata": {},
     "output_type": "execute_result"
    }
   ],
   "source": [
    "path_name = \"/nfs2/harmonization/raw/HCP/data\"\n",
    "len(os.listdir(path_name))"
   ]
  },
  {
   "cell_type": "code",
   "execution_count": 4,
   "metadata": {},
   "outputs": [
    {
     "data": {
      "text/plain": [
       "True"
      ]
     },
     "execution_count": 4,
     "metadata": {},
     "output_type": "execute_result"
    }
   ],
   "source": [
    "os.access(path_name, os.X_OK | os.W_OK | os.R_OK)\n",
    "#works"
   ]
  },
  {
   "cell_type": "code",
   "execution_count": 28,
   "metadata": {},
   "outputs": [
    {
     "name": "stdout",
     "output_type": "stream",
     "text": [
      "Total number of subjects in HCP data = 1206\n"
     ]
    }
   ],
   "source": [
    "ttl_folders = len(glob.glob(\"/nfs2/harmonization/raw/HCP/data/**/T1w/Diffusion/\"))\n",
    "print(\"Total number of subjects in HCP data =\", ttl_folders)"
   ]
  },
  {
   "cell_type": "code",
   "execution_count": 34,
   "metadata": {},
   "outputs": [
    {
     "name": "stdout",
     "output_type": "stream",
     "text": [
      "Total number of bvals in HCP data for the respective sessions: 1065\n",
      "Total number of bvals in HCP data for the respective sessions: 1065\n",
      "Total number of bvals in HCP data for the respective sessions: 1065\n",
      "Total number of bvals in HCP data for the respective sessions: 1064\n",
      "Total number of bvals in HCP data for the respective sessions: 1065\n"
     ]
    }
   ],
   "source": [
    "#Identifying which files have bvals, bvecs, nifti files, grad_dev and masks\n",
    "chk_bval = glob.glob(\"/nfs2/harmonization/raw/HCP/data/**/T1w/Diffusion/*bvals\")\n",
    "chk_bvec = glob.glob(\"/nfs2/harmonization/raw/HCP/data/**/T1w/Diffusion/*bvecs\")\n",
    "chk_data = glob.glob(\"/nfs2/harmonization/raw/HCP/data/**/T1w/Diffusion/*data.nii.gz\")\n",
    "chk_gdev = glob.glob(\"/nfs2/harmonization/raw/HCP/data/**/T1w/Diffusion/*grad_dev.nii.gz\")\n",
    "chk_mask = glob.glob(\"/nfs2/harmonization/raw/HCP/data/**/T1w/Diffusion/*nodif_brain_mask.nii.gz\")\n",
    "print(\"Total number of bvals in HCP data for the respective sessions:\", len(chk_mask))\n",
    "print(\"Total number of bvals in HCP data for the respective sessions:\", len(chk_bval))\n",
    "print(\"Total number of bvals in HCP data for the respective sessions:\", len(chk_bvec))\n",
    "print(\"Total number of bvals in HCP data for the respective sessions:\", len(chk_data))\n",
    "print(\"Total number of bvals in HCP data for the respective sessions:\", len(chk_gdev))"
   ]
  },
  {
   "cell_type": "code",
   "execution_count": 50,
   "metadata": {},
   "outputs": [
    {
     "data": {
      "text/plain": [
       "(145, 174, 145, 288)"
      ]
     },
     "execution_count": 50,
     "metadata": {},
     "output_type": "execute_result"
    }
   ],
   "source": [
    "#Look into one of the slices of the brain \n",
    "name = \"/nfs2/harmonization/raw/HCP/data/212015/T1w/Diffusion/data.nii.gz\"\n",
    "img = nib.load(name)\n",
    "img_data = img.get_fdata()\n",
    "img_data.shape\n",
    "#type(img_data)\n",
    "#hdr.get_xyzt_units()"
   ]
  },
  {
   "cell_type": "code",
   "execution_count": 48,
   "metadata": {},
   "outputs": [
    {
     "name": "stdout",
     "output_type": "stream",
     "text": [
      "<class 'nibabel.nifti1.Nifti1Header'> object, endian='<'\n",
      "sizeof_hdr      : 348\n",
      "data_type       : b''\n",
      "db_name         : b''\n",
      "extents         : 0\n",
      "session_error   : 0\n",
      "regular         : b'r'\n",
      "dim_info        : 0\n",
      "dim             : [  4 145 174 145 288   1   1   1]\n",
      "intent_p1       : 0.0\n",
      "intent_p2       : 0.0\n",
      "intent_p3       : 0.0\n",
      "intent_code     : none\n",
      "datatype        : float32\n",
      "bitpix          : 32\n",
      "slice_start     : 0\n",
      "pixdim          : [-1.    1.25  1.25  1.25  1.    0.    0.    0.  ]\n",
      "vox_offset      : 0.0\n",
      "scl_slope       : nan\n",
      "scl_inter       : nan\n",
      "slice_end       : 0\n",
      "slice_code      : unknown\n",
      "xyzt_units      : 10\n",
      "cal_max         : 0.0\n",
      "cal_min         : 0.0\n",
      "slice_duration  : 0.0\n",
      "toffset         : 0.0\n",
      "glmax           : 0\n",
      "glmin           : 0\n",
      "descrip         : b'FSL5.0'\n",
      "aux_file        : b''\n",
      "qform_code      : mni\n",
      "sform_code      : mni\n",
      "quatern_b       : 0.0\n",
      "quatern_c       : 1.0\n",
      "quatern_d       : 0.0\n",
      "qoffset_x       : 90.0\n",
      "qoffset_y       : -126.0\n",
      "qoffset_z       : -72.0\n",
      "srow_x          : [-1.25  0.    0.   90.  ]\n",
      "srow_y          : [   0.      1.25    0.   -126.  ]\n",
      "srow_z          : [  0.     0.     1.25 -72.  ]\n",
      "intent_name     : b''\n",
      "magic           : b'n+1'\n"
     ]
    }
   ],
   "source": [
    "hdr = img.header\n",
    "print(hdr)"
   ]
  },
  {
   "cell_type": "code",
   "execution_count": 49,
   "metadata": {},
   "outputs": [
    {
     "data": {
      "text/plain": [
       "array([[  -1.25,    0.  ,    0.  ,   90.  ],\n",
       "       [   0.  ,    1.25,    0.  , -126.  ],\n",
       "       [   0.  ,    0.  ,    1.25,  -72.  ],\n",
       "       [   0.  ,    0.  ,    0.  ,    1.  ]])"
      ]
     },
     "execution_count": 49,
     "metadata": {},
     "output_type": "execute_result"
    }
   ],
   "source": [
    "img.affine"
   ]
  },
  {
   "cell_type": "code",
   "execution_count": null,
   "metadata": {},
   "outputs": [],
   "source": [
    "#Return the directories that have missing values \n"
   ]
  }
 ],
 "metadata": {
  "kernelspec": {
   "display_name": "Python 3.8.3 ('base')",
   "language": "python",
   "name": "python3"
  },
  "language_info": {
   "codemirror_mode": {
    "name": "ipython",
    "version": 3
   },
   "file_extension": ".py",
   "mimetype": "text/x-python",
   "name": "python",
   "nbconvert_exporter": "python",
   "pygments_lexer": "ipython3",
   "version": "3.8.3"
  },
  "orig_nbformat": 4,
  "vscode": {
   "interpreter": {
    "hash": "125c707874e141a70c0480f741fe538402e348dce6a8060bd7c1685fb49a4b44"
   }
  }
 },
 "nbformat": 4,
 "nbformat_minor": 2
}
