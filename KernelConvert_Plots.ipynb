{
 "cells": [
  {
   "cell_type": "code",
   "execution_count": 4,
   "metadata": {},
   "outputs": [],
   "source": [
    "import pandas as pd \n",
    "import matplotlib.pyplot as plt\n",
    "import numpy as np\n",
    "import seaborn as sns\n",
    "from pathlib import Path"
   ]
  },
  {
   "cell_type": "code",
   "execution_count": 2,
   "metadata": {},
   "outputs": [],
   "source": [
    "#Make a histogram plot showing all the hard and soft kernel images\n",
    "df = pd.read_csv(\"/home-local/Kernel_Conversion/Data/B30f_B50f/slice_index.csv\")"
   ]
  },
  {
   "cell_type": "code",
   "execution_count": 8,
   "metadata": {},
   "outputs": [
    {
     "data": {
      "text/plain": [
       "PosixPath('/home-local/Kernel_Conversion/Data/B30f_B50f')"
      ]
     },
     "execution_count": 8,
     "metadata": {},
     "output_type": "execute_result"
    }
   ],
   "source": [
    "siemens = Path(\"/home-local/Kernel_Conversion/Data/B30f_B50f/\")\n",
    "siemens.resolve()"
   ]
  },
  {
   "cell_type": "code",
   "execution_count": null,
   "metadata": {},
   "outputs": [],
   "source": [
    "count = 0\n",
    "lst = []\n",
    "for img in siemens.glob('hard/*'):\n",
    "    print(img.name)\n",
    "    lst.append(img.name)"
   ]
  },
  {
   "cell_type": "code",
   "execution_count": 9,
   "metadata": {},
   "outputs": [],
   "source": [
    "def obtain_images(path):\n",
    "    lst = []\n",
    "    for img in path.glob('*'):\n",
    "        lst.append(img.name)\n",
    "    return lst"
   ]
  },
  {
   "cell_type": "markdown",
   "metadata": {},
   "source": [
    "Siemens Scanner"
   ]
  },
  {
   "cell_type": "code",
   "execution_count": 10,
   "metadata": {},
   "outputs": [],
   "source": [
    "pth = Path(\"/home-local/Kernel_Conversion/Data/B30f_B50f/hard/\")\n",
    "shard = obtain_images(pth)"
   ]
  },
  {
   "cell_type": "code",
   "execution_count": 12,
   "metadata": {},
   "outputs": [],
   "source": [
    "spth = Path(\"/home-local/Kernel_Conversion/Data/B30f_B50f/soft/\")\n",
    "ssoft = obtain_images(spth)"
   ]
  },
  {
   "cell_type": "markdown",
   "metadata": {},
   "source": [
    "C_D Scanner"
   ]
  },
  {
   "cell_type": "code",
   "execution_count": 16,
   "metadata": {},
   "outputs": [],
   "source": [
    "pth1 = Path(\"/home-local/Kernel_Conversion/Data/C_D/hard/\")\n",
    "pth2 = Path(\"/home-local/Kernel_Conversion/Data/C_D/soft/\")\n",
    "cdhard = obtain_images(pth1)\n",
    "cdsoft = obtain_images(pth2)"
   ]
  },
  {
   "cell_type": "markdown",
   "metadata": {},
   "source": [
    "FC10_FC51 Scanner "
   ]
  },
  {
   "cell_type": "code",
   "execution_count": 20,
   "metadata": {},
   "outputs": [],
   "source": [
    "pth1 = Path(\"/home-local/Kernel_Conversion/Data/FC10_FC51/hard/\")\n",
    "pth2 = Path(\"/home-local/Kernel_Conversion/Data/FC10_FC51/soft/\")\n",
    "fchard = obtain_images(pth1)\n",
    "fcsoft = obtain_images(pth2)"
   ]
  },
  {
   "cell_type": "markdown",
   "metadata": {},
   "source": [
    "BONE Scanner"
   ]
  },
  {
   "cell_type": "code",
   "execution_count": 24,
   "metadata": {},
   "outputs": [],
   "source": [
    "pth1 = Path(\"/home-local/Kernel_Conversion/Data/STANDARD_BONE/hard/\")\n",
    "pth2 = Path(\"/home-local/Kernel_Conversion/Data/STANDARD_BONE/soft/\")\n",
    "bhard = obtain_images(pth1)\n",
    "bsoft = obtain_images(pth2)"
   ]
  },
  {
   "cell_type": "markdown",
   "metadata": {},
   "source": [
    "LUNG Scanner"
   ]
  },
  {
   "cell_type": "code",
   "execution_count": 27,
   "metadata": {},
   "outputs": [],
   "source": [
    "pth1 = Path(\"/home-local/Kernel_Conversion/Data/STANDARD_LUNG/hard/\")\n",
    "pth2 = Path(\"/home-local/Kernel_Conversion/Data/STANDARD_LUNG/soft/\")\n",
    "lhard = obtain_images(pth1)\n",
    "lsoft = obtain_images(pth2)"
   ]
  },
  {
   "cell_type": "markdown",
   "metadata": {},
   "source": [
    "Making a histogram plot showing all the different hard and soft kernel images"
   ]
  },
  {
   "cell_type": "code",
   "execution_count": null,
   "metadata": {},
   "outputs": [],
   "source": [
    "scan_data = pd.DataFrame({'SIEMENS_HARD':shard,'SIEMENS_SOFT':ssoft,'TOSHIBA_HARD':fchard,'TOSHIBA_SOFT':fcsoft,\n",
    "'PHILIPS_HARD':cdhard,'PHILIPS_SOFT':cdsoft,'GE_BONE_HARD':bhard, 'GE_BONE_SOFT':bsoft, 'GE_LUNG_HARD':lhard, 'GE_LUNG_SOFT':lsoft})"
   ]
  },
  {
   "cell_type": "code",
   "execution_count": null,
   "metadata": {},
   "outputs": [],
   "source": []
  }
 ],
 "metadata": {
  "kernelspec": {
   "display_name": "Python 3.8.3 ('base')",
   "language": "python",
   "name": "python3"
  },
  "language_info": {
   "codemirror_mode": {
    "name": "ipython",
    "version": 3
   },
   "file_extension": ".py",
   "mimetype": "text/x-python",
   "name": "python",
   "nbconvert_exporter": "python",
   "pygments_lexer": "ipython3",
   "version": "3.8.3"
  },
  "orig_nbformat": 4,
  "vscode": {
   "interpreter": {
    "hash": "125c707874e141a70c0480f741fe538402e348dce6a8060bd7c1685fb49a4b44"
   }
  }
 },
 "nbformat": 4,
 "nbformat_minor": 2
}
